{
 "cells": [
  {
   "cell_type": "markdown",
   "id": "644af4bc",
   "metadata": {},
   "source": [
    "#### Author\n",
    "Victor Aleksandrin\n",
    "\n",
    "#### Reference\n",
    "\n",
    "#### Idea\n",
    "Check different ideas to test performance of models, find where models make mistakes. \n",
    "\n",
    "#### Data\n",
    "4500 cryptonews titles labeled as positive, neutral or negative + assessment data.\n",
    "\n",
    "#### Result"
   ]
  },
  {
   "cell_type": "code",
   "execution_count": 1,
   "id": "9822bee4",
   "metadata": {},
   "outputs": [],
   "source": [
    "import pandas as pd\n",
    "import yaml\n",
    "\n",
    "from sklearn.metrics import classification_report\n",
    "from checklist_utils.train import train_logreg, train_bert, split_train_val, Predictor\n",
    "from checklist_utils.data import read_data\n",
    "from checklist_utils.tests import (\n",
    "    get_coin_invariance_test, get_simple_negation_test, get_not_negative_test,\n",
    "    get_punctuation_test, get_typos_test, get_contractions_test,\n",
    "    get_change_names_test, get_change_locations_test\n",
    ")\n",
    "\n",
    "import checklist\n",
    "from checklist.editor import Editor\n",
    "from checklist.perturb import Perturb\n",
    "from checklist.test_types import INV, MFT\n",
    "from checklist.pred_wrapper import PredictorWrapper\n",
    "from checklist.test_suite import TestSuite\n",
    "\n",
    "import spacy\n",
    "nlp = spacy.load(\"en_core_web_sm\")\n",
    "\n",
    "import warnings\n",
    "warnings.filterwarnings('ignore')\n",
    "\n",
    "import logging\n",
    "logging.disable(logging.INFO)\n",
    "logging.disable(logging.WARNING)"
   ]
  },
  {
   "cell_type": "markdown",
   "id": "6515c47a",
   "metadata": {},
   "source": [
    "### Read data"
   ]
  },
  {
   "cell_type": "code",
   "execution_count": 2,
   "id": "c2be5cad",
   "metadata": {},
   "outputs": [],
   "source": [
    "DATA_PATH = \"/artifacts/data\""
   ]
  },
  {
   "cell_type": "code",
   "execution_count": 3,
   "id": "14e9db79",
   "metadata": {},
   "outputs": [],
   "source": [
    "label_mapping = {\"Negative\": 0, \"Positive\": 2, \"Neutral\": 1}"
   ]
  },
  {
   "cell_type": "code",
   "execution_count": 4,
   "id": "1d9ec94c",
   "metadata": {},
   "outputs": [],
   "source": [
    "dataset = read_data(DATA_PATH)"
   ]
  },
  {
   "cell_type": "markdown",
   "id": "76a5cbc6",
   "metadata": {},
   "source": [
    "### Config"
   ]
  },
  {
   "cell_type": "code",
   "execution_count": 5,
   "id": "dc6d62e4",
   "metadata": {},
   "outputs": [],
   "source": [
    "bert_cfg_str = \"\"\"\n",
    "epochs: 3\n",
    "train_batch_size: 32\n",
    "val_batch_size: 64\n",
    "seed: 42\n",
    "\n",
    "model_name: &model_name distilbert-base-uncased\n",
    "\n",
    "tokenizer:\n",
    "    class: transformers.DistilBertTokenizer\n",
    "    params:\n",
    "        pretrained_model_name_or_path: *model_name\n",
    "        model_max_length: 50\n",
    "\n",
    "model:\n",
    "    class: transformers.DistilBertForSequenceClassification\n",
    "    params:\n",
    "        pretrained_model_name_or_path: *model_name\n",
    "        num_labels: 3\n",
    "\n",
    "optimizer:\n",
    "    class: transformers.AdamW\n",
    "    params:\n",
    "        lr: 0.000023\n",
    "        weight_decay: 0.001\n",
    "\n",
    "scheduler:\n",
    "    params:\n",
    "        name: polynomial\n",
    "        num_warmup_steps: 0\n",
    "\"\"\""
   ]
  },
  {
   "cell_type": "code",
   "execution_count": 6,
   "id": "fdf88c9e",
   "metadata": {},
   "outputs": [],
   "source": [
    "logreg_cfg_str = \"\"\"\n",
    "tfidf: # See https://scikit-learn.org/stable/modules/generated/sklearn.feature_extraction.text.TfidfVectorizer.html\n",
    "    stop_words: english\n",
    "    ngram_range: '(1, 5)'\n",
    "    analyzer: char\n",
    "    min_df: 8\n",
    "    lowercase: true\n",
    "    max_features: 100000\n",
    "logreg: # See https://scikit-learn.org/stable/modules/generated/sklearn.linear_model.LogisticRegression.html\n",
    "    C: 2.7\n",
    "    solver: lbfgs\n",
    "    multi_class: multinomial\n",
    "    random_state: 17\n",
    "    max_iter: 500\n",
    "    n_jobs: 4\n",
    "    fit_intercept: false\n",
    "\"\"\""
   ]
  },
  {
   "cell_type": "code",
   "execution_count": 7,
   "id": "1c58aea8",
   "metadata": {},
   "outputs": [],
   "source": [
    "bert_cfg = yaml.safe_load(bert_cfg_str)"
   ]
  },
  {
   "cell_type": "code",
   "execution_count": 8,
   "id": "27069a58",
   "metadata": {},
   "outputs": [],
   "source": [
    "logreg_cfg = yaml.safe_load(logreg_cfg_str)"
   ]
  },
  {
   "cell_type": "markdown",
   "id": "aea234e4",
   "metadata": {},
   "source": [
    "### Task description\n",
    "\n",
    "We'd like to test Bert and Tf-Idf-Logreg models and identify failures.\n",
    "\n",
    "\n",
    "#### Approach\n",
    "To test our models we apply the approach presented in the CheckList package. Checklist provides a matrix of general linguistic capabilities and test types.\n",
    "\n",
    "**Main Capabilities**\n",
    "- *Vocabulary + POS* - whether a model has the necessary vocabulary and whether it can appropriately handle the impact of words with different part of speech.\n",
    "- *Robustness* to typos, irrelevant changes etc\n",
    "- *NER* - appropriately understanding named entitites\n",
    "\n",
    "**Test types**\n",
    "- *MFT* - minimum functionality test\n",
    "- *INV* - invariance test\n",
    "- *DIR* - directional expectation test\n",
    "\n",
    "Check paper below for details.\n",
    "\n",
    "\n",
    "#### Steps\n",
    "\n",
    "\n",
    "1. Split dataset on train data (80%) and validation data(20%).\n",
    "2. Train models on train data.\n",
    "3. Generate tests using Checklist and validation data.\n",
    "4. Run tests and check error rate = not passed tests / all tests\n",
    "\n",
    "#### References\n",
    "- [Beyond Accuracy: Behavioral Testing of NLP models with CheckList](https://arxiv.org/abs/2005.04118)\n",
    "- [Github](https://github.com/marcotcr/checklist)"
   ]
  },
  {
   "cell_type": "markdown",
   "id": "71e1ead0",
   "metadata": {},
   "source": [
    "### Split data"
   ]
  },
  {
   "cell_type": "code",
   "execution_count": 9,
   "id": "92d4574b",
   "metadata": {},
   "outputs": [],
   "source": [
    "train_data, val_data, train_labels, val_labels = split_train_val(dataset, test_size=0.2)"
   ]
  },
  {
   "cell_type": "markdown",
   "id": "4cce976b",
   "metadata": {},
   "source": [
    "### Train bert"
   ]
  },
  {
   "cell_type": "code",
   "execution_count": 10,
   "id": "df7e3c39",
   "metadata": {
    "scrolled": false
   },
   "outputs": [
    {
     "data": {
      "application/vnd.jupyter.widget-view+json": {
       "model_id": "f8776296b80d42689633660f734c871c",
       "version_major": 2,
       "version_minor": 0
      },
      "text/plain": [
       "Training: 0it [00:00, ?it/s]"
      ]
     },
     "metadata": {},
     "output_type": "display_data"
    },
    {
     "data": {
      "application/vnd.jupyter.widget-view+json": {
       "model_id": "",
       "version_major": 2,
       "version_minor": 0
      },
      "text/plain": [
       "Validation: 0it [00:00, ?it/s]"
      ]
     },
     "metadata": {},
     "output_type": "display_data"
    },
    {
     "data": {
      "application/vnd.jupyter.widget-view+json": {
       "model_id": "",
       "version_major": 2,
       "version_minor": 0
      },
      "text/plain": [
       "Validation: 0it [00:00, ?it/s]"
      ]
     },
     "metadata": {},
     "output_type": "display_data"
    },
    {
     "data": {
      "application/vnd.jupyter.widget-view+json": {
       "model_id": "",
       "version_major": 2,
       "version_minor": 0
      },
      "text/plain": [
       "Validation: 0it [00:00, ?it/s]"
      ]
     },
     "metadata": {},
     "output_type": "display_data"
    },
    {
     "data": {
      "application/vnd.jupyter.widget-view+json": {
       "model_id": "80332a0ed729478a9e44fd354ca2e06f",
       "version_major": 2,
       "version_minor": 0
      },
      "text/plain": [
       "Predicting: 119it [00:00, ?it/s]"
      ]
     },
     "metadata": {},
     "output_type": "display_data"
    }
   ],
   "source": [
    "output = train_bert(\n",
    "    bert_cfg, \n",
    "    train_data,\n",
    "    train_labels,\n",
    "    val_data,\n",
    "    val_labels, \n",
    "    return_predictions=True,\n",
    "    return_model=True\n",
    ")"
   ]
  },
  {
   "cell_type": "code",
   "execution_count": 11,
   "id": "049bd846",
   "metadata": {},
   "outputs": [
    {
     "data": {
      "text/plain": [
       "dict_keys(['scores', 'pred_labels', 'model'])"
      ]
     },
     "execution_count": 11,
     "metadata": {},
     "output_type": "execute_result"
    }
   ],
   "source": [
    "output.keys()"
   ]
  },
  {
   "cell_type": "code",
   "execution_count": 12,
   "id": "b9dd5a61",
   "metadata": {},
   "outputs": [
    {
     "data": {
      "text/plain": [
       "{'train_loss': [0.7456982135772705, 0.46093425154685974, 0.36142468452453613],\n",
       " 'val_loss': [0.5812508463859558, 0.563011109828949, 0.5765780210494995],\n",
       " 'train_acc': [0.6849710941314697, 0.831581711769104, 0.8715186715126038],\n",
       " 'val_acc': [0.7773109078407288, 0.7804622054100037, 0.793067216873169]}"
      ]
     },
     "execution_count": 12,
     "metadata": {},
     "output_type": "execute_result"
    }
   ],
   "source": [
    "output[\"scores\"]"
   ]
  },
  {
   "cell_type": "code",
   "execution_count": 13,
   "id": "c5ad05a0",
   "metadata": {},
   "outputs": [
    {
     "name": "stdout",
     "output_type": "stream",
     "text": [
      "              precision    recall  f1-score   support\n",
      "\n",
      "    Negative       0.77      0.88      0.82       309\n",
      "    Positive       0.71      0.56      0.62       193\n",
      "     Neutral       0.84      0.83      0.84       450\n",
      "\n",
      "    accuracy                           0.79       952\n",
      "   macro avg       0.77      0.76      0.76       952\n",
      "weighted avg       0.79      0.79      0.79       952\n",
      "\n"
     ]
    }
   ],
   "source": [
    "print(classification_report(val_labels, output[\"pred_labels\"], target_names=label_mapping.keys()))"
   ]
  },
  {
   "cell_type": "markdown",
   "id": "3f10e057",
   "metadata": {},
   "source": [
    "### Train logreg"
   ]
  },
  {
   "cell_type": "code",
   "execution_count": 14,
   "id": "2726e9e1",
   "metadata": {},
   "outputs": [],
   "source": [
    "logreg = train_logreg(logreg_cfg, train_data, train_labels)"
   ]
  },
  {
   "cell_type": "code",
   "execution_count": 15,
   "id": "94a91100",
   "metadata": {},
   "outputs": [
    {
     "name": "stdout",
     "output_type": "stream",
     "text": [
      "              precision    recall  f1-score   support\n",
      "\n",
      "    Negative       0.73      0.71      0.72       309\n",
      "    Positive       0.69      0.41      0.51       193\n",
      "     Neutral       0.71      0.84      0.77       450\n",
      "\n",
      "    accuracy                           0.71       952\n",
      "   macro avg       0.71      0.65      0.67       952\n",
      "weighted avg       0.71      0.71      0.70       952\n",
      "\n"
     ]
    }
   ],
   "source": [
    "print(classification_report(val_labels, logreg.predict(val_data), target_names=label_mapping.keys()))"
   ]
  },
  {
   "cell_type": "markdown",
   "id": "9c176d5f",
   "metadata": {},
   "source": [
    "### Set prediction wrappers for tests"
   ]
  },
  {
   "cell_type": "code",
   "execution_count": 16,
   "id": "81d0368c",
   "metadata": {},
   "outputs": [],
   "source": [
    "bert_predictor = Predictor(output[\"model\"])"
   ]
  },
  {
   "cell_type": "code",
   "execution_count": 17,
   "id": "5da0a812",
   "metadata": {},
   "outputs": [],
   "source": [
    "wrapped_bert_predictor = PredictorWrapper.wrap_softmax(bert_predictor)"
   ]
  },
  {
   "cell_type": "code",
   "execution_count": 18,
   "id": "936c25c7",
   "metadata": {},
   "outputs": [
    {
     "data": {
      "text/plain": [
       "(array([2, 2, 1]),\n",
       " array([[0.07258038, 0.07392533, 0.8534943 ],\n",
       "        [0.08949793, 0.08003902, 0.83046305],\n",
       "        [0.01836355, 0.77549595, 0.20614046]], dtype=float32))"
      ]
     },
     "execution_count": 18,
     "metadata": {},
     "output_type": "execute_result"
    }
   ],
   "source": [
    "wrapped_bert_predictor([\n",
    "    \"btc does not drop by 10%\", \n",
    "    \"EU Won't Ban Bitcoin After All\",\n",
    "    \"BTC Price Tech Analysis for 08/02/2017  Back to Triangle Support\"\n",
    "])"
   ]
  },
  {
   "cell_type": "code",
   "execution_count": 19,
   "id": "b7b8f0e8",
   "metadata": {},
   "outputs": [],
   "source": [
    "wrapped_logreg_predictor = PredictorWrapper.wrap_softmax(logreg.predict_proba)"
   ]
  },
  {
   "cell_type": "code",
   "execution_count": 20,
   "id": "cc77a1dc",
   "metadata": {},
   "outputs": [
    {
     "data": {
      "text/plain": [
       "(array([0, 0, 2]),\n",
       " array([[0.68979539, 0.18035446, 0.12985014],\n",
       "        [0.52225071, 0.07841449, 0.3993348 ],\n",
       "        [0.05535587, 0.36895761, 0.57568652]]))"
      ]
     },
     "execution_count": 20,
     "metadata": {},
     "output_type": "execute_result"
    }
   ],
   "source": [
    "wrapped_logreg_predictor([\n",
    "    \"btc does not drop by 10%\", \n",
    "    \"EU Won't Ban Bitcoin After All\",\n",
    "    \"BTC Price Tech Analysis for 08/02/2017  Back to Triangle Support\"\n",
    "])"
   ]
  },
  {
   "cell_type": "markdown",
   "id": "ed0243db",
   "metadata": {},
   "source": [
    "### Add tests"
   ]
  },
  {
   "cell_type": "code",
   "execution_count": 21,
   "id": "36bb498f",
   "metadata": {},
   "outputs": [],
   "source": [
    "suite = TestSuite()"
   ]
  },
  {
   "cell_type": "markdown",
   "id": "ef8ae1c1",
   "metadata": {},
   "source": [
    "### Capability: NER"
   ]
  },
  {
   "cell_type": "markdown",
   "id": "d6662aed",
   "metadata": {},
   "source": [
    "#### Invariance tests"
   ]
  },
  {
   "cell_type": "code",
   "execution_count": 22,
   "id": "b3c738f5",
   "metadata": {},
   "outputs": [],
   "source": [
    "coin_inv_test = get_coin_invariance_test(val_data)\n",
    "suite.add(coin_inv_test)"
   ]
  },
  {
   "cell_type": "code",
   "execution_count": 23,
   "id": "90d96ad9",
   "metadata": {},
   "outputs": [
    {
     "data": {
      "text/plain": [
       "[[\"china's central bank to continue bitcoin exchange inspections\",\n",
       "  \"china's central bank to continue ethereum exchange inspections\",\n",
       "  \"china's central bank to continue ripple exchange inspections\",\n",
       "  \"china's central bank to continue tether exchange inspections\",\n",
       "  \"china's central bank to continue cardano exchange inspections\",\n",
       "  \"china's central bank to continue stellar exchange inspections\",\n",
       "  \"china's central bank to continue dogecoin exchange inspections\"],\n",
       " ['bitcoin price to reach $60,000 before crashing to $1,000 in 2018 is saxo banks outrageous prediction',\n",
       "  'ethereum price to reach $60,000 before crashing to $1,000 in 2018 is saxo banks outrageous prediction',\n",
       "  'ripple price to reach $60,000 before crashing to $1,000 in 2018 is saxo banks outrageous prediction',\n",
       "  'tether price to reach $60,000 before crashing to $1,000 in 2018 is saxo banks outrageous prediction',\n",
       "  'cardano price to reach $60,000 before crashing to $1,000 in 2018 is saxo banks outrageous prediction',\n",
       "  'stellar price to reach $60,000 before crashing to $1,000 in 2018 is saxo banks outrageous prediction',\n",
       "  'dogecoin price to reach $60,000 before crashing to $1,000 in 2018 is saxo banks outrageous prediction']]"
      ]
     },
     "execution_count": 23,
     "metadata": {},
     "output_type": "execute_result"
    }
   ],
   "source": [
    "coin_inv_test.data[:2]"
   ]
  },
  {
   "cell_type": "code",
   "execution_count": 24,
   "id": "93b95d12",
   "metadata": {},
   "outputs": [],
   "source": [
    "change_names_test = get_change_names_test(list(nlp.pipe(val_data.values)))\n",
    "suite.add(change_names_test)"
   ]
  },
  {
   "cell_type": "code",
   "execution_count": 25,
   "id": "e712d7fe",
   "metadata": {},
   "outputs": [],
   "source": [
    "change_locations_test = get_change_locations_test(list(nlp.pipe(val_data.values)))\n",
    "suite.add(change_locations_test)"
   ]
  },
  {
   "cell_type": "markdown",
   "id": "72ebb3b1",
   "metadata": {},
   "source": [
    "### Capability: Negation"
   ]
  },
  {
   "cell_type": "markdown",
   "id": "11dcde87",
   "metadata": {},
   "source": [
    "#### MFTs"
   ]
  },
  {
   "cell_type": "code",
   "execution_count": 26,
   "id": "577aeffc",
   "metadata": {},
   "outputs": [],
   "source": [
    "simple_negation_test = get_simple_negation_test()\n",
    "suite.add(simple_negation_test)"
   ]
  },
  {
   "cell_type": "code",
   "execution_count": 27,
   "id": "8db8b520",
   "metadata": {},
   "outputs": [
    {
     "data": {
      "text/plain": [
       "['bitcoin is not legal.',\n",
       " 'ethereum is not legal.',\n",
       " 'ripple is not legal.',\n",
       " 'tether is not legal.',\n",
       " 'cardano is not legal.',\n",
       " 'stellar is not legal.']"
      ]
     },
     "execution_count": 27,
     "metadata": {},
     "output_type": "execute_result"
    }
   ],
   "source": [
    "simple_negation_test.data[:6]"
   ]
  },
  {
   "cell_type": "code",
   "execution_count": 28,
   "id": "6036f69c",
   "metadata": {},
   "outputs": [],
   "source": [
    "not_negative_test = get_not_negative_test()\n",
    "suite.add(not_negative_test)"
   ]
  },
  {
   "cell_type": "code",
   "execution_count": 29,
   "id": "f1ce2a60",
   "metadata": {},
   "outputs": [
    {
     "data": {
      "text/plain": [
       "['bitcoin does not drop below 39000$.',\n",
       " 'ethereum does not drop below 39000$.',\n",
       " 'ripple does not drop below 39000$.',\n",
       " 'tether does not drop below 39000$.',\n",
       " 'cardano does not drop below 39000$.',\n",
       " 'stellar does not drop below 39000$.',\n",
       " 'dogecoin does not drop below 39000$.',\n",
       " \"bitcoin doesn't drop below 39000$.\",\n",
       " \"ethereum doesn't drop below 39000$.\",\n",
       " \"ripple doesn't drop below 39000$.\"]"
      ]
     },
     "execution_count": 29,
     "metadata": {},
     "output_type": "execute_result"
    }
   ],
   "source": [
    "not_negative_test.data[:10]"
   ]
  },
  {
   "cell_type": "markdown",
   "id": "3a086d4d",
   "metadata": {},
   "source": [
    "### Capability: Robustness"
   ]
  },
  {
   "cell_type": "markdown",
   "id": "fa7c7c5e",
   "metadata": {},
   "source": [
    "#### Invariance tests"
   ]
  },
  {
   "cell_type": "code",
   "execution_count": 30,
   "id": "745b873d",
   "metadata": {},
   "outputs": [],
   "source": [
    "punctuation_test = get_punctuation_test(list(nlp.pipe(val_data.values)))\n",
    "suite.add(punctuation_test)"
   ]
  },
  {
   "cell_type": "code",
   "execution_count": 31,
   "id": "5d18bc33",
   "metadata": {},
   "outputs": [],
   "source": [
    "typos_test = get_typos_test(val_data.values)\n",
    "suite.add(typos_test)"
   ]
  },
  {
   "cell_type": "code",
   "execution_count": 32,
   "id": "05b13340",
   "metadata": {},
   "outputs": [],
   "source": [
    "contractions_test = get_contractions_test(val_data.values)\n",
    "suite.add(contractions_test)"
   ]
  },
  {
   "cell_type": "markdown",
   "id": "a9c47389",
   "metadata": {},
   "source": [
    "### Run tests"
   ]
  },
  {
   "cell_type": "code",
   "execution_count": 33,
   "id": "6c642d3f",
   "metadata": {},
   "outputs": [
    {
     "name": "stdout",
     "output_type": "stream",
     "text": [
      "Running Switch coin name.\n",
      "Predicting 1574 examples\n",
      "Running Change names.\n",
      "Predicting 275 examples\n",
      "Running Change locations.\n",
      "Predicting 440 examples\n",
      "Running Simple negation: negative samples.\n",
      "Predicting 98 examples\n",
      "Running Simple negation: not negative.\n",
      "Predicting 112 examples\n",
      "Running Punctuation.\n",
      "Predicting 1014 examples\n",
      "Running Typos.\n",
      "Predicting 1000 examples\n",
      "Running Contractions.\n",
      "Predicting 48 examples\n"
     ]
    }
   ],
   "source": [
    "suite.run(wrapped_bert_predictor, overwrite=True)"
   ]
  },
  {
   "cell_type": "code",
   "execution_count": 34,
   "id": "4477b6c8",
   "metadata": {},
   "outputs": [
    {
     "name": "stdout",
     "output_type": "stream",
     "text": [
      "Please wait as we prepare the table data...\n"
     ]
    },
    {
     "data": {
      "application/vnd.jupyter.widget-view+json": {
       "model_id": "44587a99143f426a81dc7ca01e5ef02b",
       "version_major": 2,
       "version_minor": 0
      },
      "text/plain": [
       "SuiteSummarizer(stats={'npassed': 0, 'nfailed': 0, 'nfiltered': 0}, test_infos=[{'name': 'Switch coin name.', …"
      ]
     },
     "metadata": {},
     "output_type": "display_data"
    }
   ],
   "source": [
    "suite.visual_summary_table()"
   ]
  },
  {
   "cell_type": "code",
   "execution_count": 40,
   "id": "9f12a25f",
   "metadata": {},
   "outputs": [
    {
     "name": "stdout",
     "output_type": "stream",
     "text": [
      "Running Switch coin name.\n",
      "Predicting 1514 examples\n",
      "Running Simple negation: negative samples.\n",
      "Predicting 98 examples\n",
      "Running Simple negation: not negative.\n",
      "Predicting 112 examples\n",
      "Running Punctuation.\n",
      "Predicting 1015 examples\n",
      "Running Typos.\n",
      "Predicting 1000 examples\n",
      "Running Contractions.\n",
      "Predicting 30 examples\n",
      "Running Change names.\n",
      "Predicting 352 examples\n",
      "Running Change locations.\n",
      "Predicting 517 examples\n"
     ]
    }
   ],
   "source": [
    "suite.run(wrapped_logreg_predictor, overwrite=True)"
   ]
  },
  {
   "cell_type": "code",
   "execution_count": 46,
   "id": "dfce7cba",
   "metadata": {
    "scrolled": false
   },
   "outputs": [
    {
     "name": "stdout",
     "output_type": "stream",
     "text": [
      "Robustness\n",
      "\n",
      "Punctuation.\n",
      "Test cases:      500\n",
      "Fails (rate):    0 (0.0%)\n",
      "\n",
      "\n",
      "Typos.\n",
      "Test cases:      500\n",
      "Fails (rate):    11 (2.2%)\n",
      "\n",
      "Example fails:\n",
      "0.5 0.1 0.4 India is Preparing Bitcoin Regulations, Ban Unlikely: Report\n",
      "0.4 0.1 0.5 India is Preparing Bitcoin Regluations, Ban Unlikely: Report\n",
      "\n",
      "----\n",
      "0.2 0.3 0.5 Bitcoin Cash Price Analysis: BCH/USD Breaks Above Key Resistance\n",
      "0.4 0.3 0.3 Bitcoin Cash Price Analysis: BCH/USD Breaks bAove Key Resistance\n",
      "\n",
      "----\n",
      "0.4 0.3 0.3 OneCoin, Bitcoin, Litecoin on Same Warning List by Bank of Uganda\n",
      "0.3 0.4 0.3 OneCoin, Bitcoin, Litecoin on Same aWrning List by Bank of Uganda\n",
      "\n",
      "----\n",
      "\n",
      "\n",
      "Contractions.\n",
      "Test cases:      15\n",
      "Fails (rate):    0 (0.0%)\n",
      "\n",
      "\n",
      "\n",
      "\n",
      "NER\n",
      "\n",
      "Switch coin name.\n",
      "Test cases:      200\n",
      "Fails (rate):    13 (6.5%)\n",
      "\n",
      "Example fails:\n",
      "0.2 0.3 0.5 bitcoin has gone mainstream. that's a very big deal\n",
      "0.2 0.4 0.4 tether has gone mainstream. that's a very big deal\n",
      "0.2 0.4 0.4 stellar has gone mainstream. that's a very big deal\n",
      "\n",
      "----\n",
      "0.3 0.1 0.6 $2,300 and rising: bitcoin cash gains against bitcoin\n",
      "0.4 0.2 0.4 $2,300 and rising: stellar cash gains against stellar\n",
      "\n",
      "----\n",
      "0.4 0.0 0.6 $81 billion allianz says bitcoin is a bubble, search engine results show otherwise\n",
      "0.5 0.1 0.5 $81 billion allianz says ethereum is a bubble, search engine results show otherwise\n",
      "\n",
      "----\n",
      "\n",
      "\n",
      "Change names.\n",
      "Test cases:      32\n",
      "Fails (rate):    8 (25.0%)\n",
      "\n",
      "Example fails:\n",
      "0.6 0.1 0.3 Another FUD String to JP Morgan Bow: Governments Will Ban Bitcoin, Mike Bell\n",
      "0.4 0.1 0.5 Another FUD String to JP Morgan Bow: Governments Will Ban Bitcoin, William Turner\n",
      "\n",
      "----\n",
      "0.3 0.4 0.3 Why Bill Gates Remarks on Bitcoin Deaths are Flawed at Every Level\n",
      "0.5 0.2 0.2 Why Christopher Wilson on Bitcoin Deaths are Flawed at Every Level\n",
      "0.4 0.3 0.3 Why Daniel Morales on Bitcoin Deaths are Flawed at Every Level\n",
      "\n",
      "----\n",
      "0.3 0.5 0.2 BTCC Chief Bobby Lee on SegWit2x and Chinas Bitcoin Exchange Ban\n",
      "0.5 0.3 0.2 BTCC Chief Christopher Ortiz on SegWit2x and Chinas Bitcoin Exchange Ban\n",
      "0.4 0.3 0.3 BTCC Chief David Smith on SegWit2x and Chinas Bitcoin Exchange Ban\n",
      "\n",
      "----\n",
      "\n",
      "\n",
      "Change locations.\n",
      "Test cases:      47\n",
      "Fails (rate):    9 (19.1%)\n",
      "\n",
      "Example fails:\n",
      "0.2 0.4 0.4 The Wall between US and Mexico May Work out Well for Bitcoin\n",
      "0.3 0.4 0.3 The Wall between US and Russian Federation May Work out Well for Bitcoin\n",
      "\n",
      "----\n",
      "0.4 0.1 0.6 Algeria Wants to Ban Bitcoin and other Cryptocurrencies\n",
      "0.6 0.1 0.3 Russian Federation Wants to Ban Bitcoin and other Cryptocurrencies\n",
      "0.6 0.1 0.4 Madagascar Wants to Ban Bitcoin and other Cryptocurrencies\n",
      "\n",
      "----\n",
      "0.5 0.2 0.3 Charlie Shrem: China has No Real Impact on Bitcoin\n",
      "0.3 0.2 0.5 Charlie Shrem: Philippines has No Real Impact on Bitcoin\n",
      "0.4 0.2 0.5 Charlie Shrem: Pakistan has No Real Impact on Bitcoin\n",
      "\n",
      "----\n",
      "\n",
      "\n",
      "\n",
      "\n",
      "Negation\n",
      "\n",
      "Simple negation: negative samples.\n",
      "Test cases:      98\n",
      "Fails (rate):    48 (49.0%)\n",
      "\n",
      "Example fails:\n",
      "0.4 0.4 0.2 tether is not safe.\n",
      "----\n",
      "0.2 0.3 0.6 ripple isn't stable.\n",
      "----\n",
      "0.2 0.4 0.3 ethereum isn't stable.\n",
      "----\n",
      "\n",
      "\n",
      "Simple negation: not negative.\n",
      "Test cases:      112\n",
      "Fails (rate):    112 (100.0%)\n",
      "\n",
      "Example fails:\n",
      "0.9 0.1 0.0 ethereum won't fall below 39000$.\n",
      "----\n",
      "0.8 0.1 0.1 tether will not plunge below 39000$.\n",
      "----\n",
      "0.8 0.1 0.1 ethereum doesn't plunge below 39000$.\n",
      "----\n",
      "\n",
      "\n",
      "\n",
      "\n"
     ]
    }
   ],
   "source": [
    "suite.summary()"
   ]
  },
  {
   "cell_type": "code",
   "execution_count": 37,
   "id": "2b102117",
   "metadata": {},
   "outputs": [],
   "source": [
    "# suite.visual_summary_table()"
   ]
  }
 ],
 "metadata": {
  "kernelspec": {
   "display_name": "Python 3 (ipykernel)",
   "language": "python",
   "name": "python3"
  },
  "language_info": {
   "codemirror_mode": {
    "name": "ipython",
    "version": 3
   },
   "file_extension": ".py",
   "mimetype": "text/x-python",
   "name": "python",
   "nbconvert_exporter": "python",
   "pygments_lexer": "ipython3",
   "version": "3.9.7"
  }
 },
 "nbformat": 4,
 "nbformat_minor": 5
}
