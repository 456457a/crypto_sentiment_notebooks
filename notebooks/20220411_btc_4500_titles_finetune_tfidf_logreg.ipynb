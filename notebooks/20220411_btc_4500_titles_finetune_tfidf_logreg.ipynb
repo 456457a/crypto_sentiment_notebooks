{
 "cells": [
  {
   "cell_type": "markdown",
   "id": "3e16eaff",
   "metadata": {},
   "source": [
    "#### Author\n",
    "Victor Aleksandrin\n",
    "\n",
    "#### Reference\n",
    "[Notion ticket](https://www.notion.so/a74951e4e815480584dea7d61ddce6cc?v=dbfdb1207d0e451b827d3c5041ed0cfd&p=fb9f43de74cb4dc6afe4e8f54a71e85b)\n",
    "\n",
    "#### Idea\n",
    "Finetune tf-idf + logreg parameters with optuna. \n",
    "\n",
    "#### Data\n",
    "4500 cryptonews titles labeled as positive, neutral or negative – [CSV](https://drive.google.com/file/d/1YqvAtWAQNeXvw-71TWtNmisAa9SN8gmj/view) (not to be shared outside of the project!)\n",
    "\n",
    "#### Result\n",
    "Finetuned model obtains about 72 accuracy score."
   ]
  },
  {
   "cell_type": "code",
   "execution_count": 1,
   "id": "6148e132",
   "metadata": {},
   "outputs": [],
   "source": [
    "import numpy as np\n",
    "import pandas as pd\n",
    "\n",
    "from sklearn.model_selection import cross_val_score, StratifiedKFold\n",
    "from scipy.sparse import hstack\n",
    "from sklearn.feature_extraction.text import TfidfVectorizer\n",
    "from sklearn.linear_model import LogisticRegression\n",
    "from sklearn.pipeline import Pipeline\n",
    "from sklearn.model_selection import learning_curve\n",
    "\n",
    "from typing import Dict, Any\n",
    "from copy import deepcopy\n",
    "\n",
    "import optuna\n",
    "\n",
    "from matplotlib import pyplot as plt\n",
    "%config InlineBackend.figure_format = 'retina' # sharper plots"
   ]
  },
  {
   "cell_type": "markdown",
   "id": "f2ec2ec7",
   "metadata": {},
   "source": [
    "### Read data"
   ]
  },
  {
   "cell_type": "code",
   "execution_count": 2,
   "id": "eac8dee1",
   "metadata": {},
   "outputs": [],
   "source": [
    "DATA_PATH = '../data/20190110_train_4500.csv'"
   ]
  },
  {
   "cell_type": "code",
   "execution_count": 3,
   "id": "0daf30f5",
   "metadata": {},
   "outputs": [],
   "source": [
    "dataset = pd.read_csv(DATA_PATH)"
   ]
  },
  {
   "cell_type": "code",
   "execution_count": 4,
   "id": "a4b01e86",
   "metadata": {},
   "outputs": [
    {
     "data": {
      "text/html": [
       "<div>\n",
       "<style scoped>\n",
       "    .dataframe tbody tr th:only-of-type {\n",
       "        vertical-align: middle;\n",
       "    }\n",
       "\n",
       "    .dataframe tbody tr th {\n",
       "        vertical-align: top;\n",
       "    }\n",
       "\n",
       "    .dataframe thead th {\n",
       "        text-align: right;\n",
       "    }\n",
       "</style>\n",
       "<table border=\"1\" class=\"dataframe\">\n",
       "  <thead>\n",
       "    <tr style=\"text-align: right;\">\n",
       "      <th></th>\n",
       "      <th>title</th>\n",
       "      <th>sentiment</th>\n",
       "    </tr>\n",
       "  </thead>\n",
       "  <tbody>\n",
       "    <tr>\n",
       "      <th>0</th>\n",
       "      <td>Bitcoin Market Has Run Out of Juice: Cryptocur...</td>\n",
       "      <td>Negative</td>\n",
       "    </tr>\n",
       "    <tr>\n",
       "      <th>1</th>\n",
       "      <td>Bitcoin Core 0.14.0 Speeds Up Blockchain Synci...</td>\n",
       "      <td>Positive</td>\n",
       "    </tr>\n",
       "    <tr>\n",
       "      <th>2</th>\n",
       "      <td>Thinking of Travelling With Bitcoin? With Thes...</td>\n",
       "      <td>Positive</td>\n",
       "    </tr>\n",
       "    <tr>\n",
       "      <th>3</th>\n",
       "      <td>Investors Carried Out Mental Gymnastics to Jus...</td>\n",
       "      <td>Negative</td>\n",
       "    </tr>\n",
       "    <tr>\n",
       "      <th>4</th>\n",
       "      <td>Bitcoin Price Holds Above $8,500 as Market Fig...</td>\n",
       "      <td>Positive</td>\n",
       "    </tr>\n",
       "  </tbody>\n",
       "</table>\n",
       "</div>"
      ],
      "text/plain": [
       "                                               title sentiment\n",
       "0  Bitcoin Market Has Run Out of Juice: Cryptocur...  Negative\n",
       "1  Bitcoin Core 0.14.0 Speeds Up Blockchain Synci...  Positive\n",
       "2  Thinking of Travelling With Bitcoin? With Thes...  Positive\n",
       "3  Investors Carried Out Mental Gymnastics to Jus...  Negative\n",
       "4  Bitcoin Price Holds Above $8,500 as Market Fig...  Positive"
      ]
     },
     "execution_count": 4,
     "metadata": {},
     "output_type": "execute_result"
    }
   ],
   "source": [
    "dataset.head()"
   ]
  },
  {
   "cell_type": "markdown",
   "id": "ad86610e",
   "metadata": {},
   "source": [
    "### Params tuning"
   ]
  },
  {
   "cell_type": "code",
   "execution_count": 5,
   "id": "eb16f2b6",
   "metadata": {},
   "outputs": [],
   "source": [
    "temp_cfg = {\n",
    "    \"tfidf\": {\n",
    "        \"ngram_range\": (1, 5), \n",
    "        \"min_df\": 0.0, \n",
    "        \"analyzer\": \"char\", \n",
    "        \"max_features\": 20000,\n",
    "        \"stop_words\": \"english\",\n",
    "        \"norm\": \"l2\",\n",
    "        \"use_idf\": True,\n",
    "        \"binary\": False,\n",
    "        \"sublinear_tf\": False,\n",
    "        \"max_df\": 0.75\n",
    "    },\n",
    "    \"logit\": {\n",
    "        \"C\": 1.5, \n",
    "        \"random_state\": 17, \n",
    "        \"multi_class\": \"multinomial\", \n",
    "        \"solver\": \"lbfgs\", \n",
    "        \"n_jobs\": 4, \n",
    "        \"max_iter\": 500,\n",
    "        \"penalty\": \"l2\"\n",
    "    }\n",
    "}"
   ]
  },
  {
   "cell_type": "code",
   "execution_count": 6,
   "id": "f09729dd",
   "metadata": {},
   "outputs": [],
   "source": [
    "def train_model(cfg: Dict[str, Any], dataset: pd.DataFrame) -> float:\n",
    "    \n",
    "    skf = StratifiedKFold(n_splits=5, shuffle=True, random_state=17)\n",
    "    \n",
    "    title_transformer = TfidfVectorizer(**cfg[\"tfidf\"])\n",
    "    logit = LogisticRegression(**cfg[\"logit\"])\n",
    "\n",
    "    model = Pipeline([('tfidf', title_transformer), ('logit', logit)])\n",
    "    \n",
    "    return cross_val_score(\n",
    "        estimator=model, \n",
    "        X=dataset['title'], \n",
    "        y=dataset['sentiment'], \n",
    "        cv=skf,\n",
    "        n_jobs=5\n",
    "    ).mean()"
   ]
  },
  {
   "cell_type": "code",
   "execution_count": 7,
   "id": "faad9e78",
   "metadata": {},
   "outputs": [],
   "source": [
    "def objective(trial: optuna.trial.Trial, cfg: Dict[str, Any], dataset:pd.DataFrame) -> float:\n",
    "    \n",
    "    trial_cfg = deepcopy(cfg)\n",
    "    \n",
    "    # tf-idf params\n",
    "    ngram_range_max = trial.suggest_int(\"ngram_range_max\", 1, 7, step=1)\n",
    "    trial_cfg[\"tfidf\"][\"ngram_range\"] = (1, ngram_range_max)\n",
    "    \n",
    "    trial_cfg[\"tfidf\"][\"min_df\"] = trial.suggest_float(\"min_df\", 0, 0.3, step=0.001)\n",
    "    trial_cfg[\"tfidf\"][\"max_df\"] = trial.suggest_float(\"max_df\", 0.7, 1.0, step=0.001)\n",
    "    trial_cfg[\"tfidf\"][\"analyzer\"] = trial.suggest_categorical(\"analyzer\", [\"word\", \"char\"])\n",
    "\n",
    "    \n",
    "    # logreg\n",
    "    solver = trial.suggest_categorical(\"solver\", [\"liblinear\", \"lbfgs\"])\n",
    "    trial_cfg[\"logit\"][\"solver\"] = solver\n",
    "    \n",
    "    trial_cfg[\"logit\"][\"C\"] = trial.suggest_float(\"C\", 1, 3, step=0.001)\n",
    "    \n",
    "    if solver == \"liblinear\":\n",
    "        trial_cfg[\"logit\"][\"multi_class\"] = \"ovr\"\n",
    "        trial_cfg[\"logit\"][\"n_jobs\"] = 1\n",
    "    else:\n",
    "        trial_cfg[\"logit\"][\"multi_class\"] = trial.suggest_categorical(\"multi_class\", [\"ovr\", \"multinomial\"])\n",
    "    \n",
    "    if solver == \"lbfgs\":\n",
    "        trial_cfg[\"logit\"][\"penalty\"] = \"l2\"\n",
    "    else:\n",
    "        trial_cfg[\"logit\"][\"penalty\"] = trial.suggest_categorical(\"penalty\", [\"l1\", \"l2\"])\n",
    "    \n",
    "    trial.set_user_attr(\"cfg\", trial_cfg)\n",
    "    \n",
    "    accuracy = train_model(trial_cfg, dataset)\n",
    "    \n",
    "    return accuracy"
   ]
  },
  {
   "cell_type": "code",
   "execution_count": 8,
   "id": "2306f93c",
   "metadata": {},
   "outputs": [],
   "source": [
    "def tune_logreg(\n",
    "    cfg: Dict[str, Any], \n",
    "    dataset: pd.DataFrame, \n",
    "    n_trials: int = 100\n",
    ") -> optuna.trial._frozen.FrozenTrial:\n",
    "    \n",
    "    pruner: optuna.pruners.BasePruner = optuna.pruners.MedianPruner()\n",
    "\n",
    "    study = optuna.create_study(direction=\"maximize\", pruner=pruner)\n",
    "    study.optimize(lambda x: objective(x, cfg, dataset), n_trials=n_trials)\n",
    "    \n",
    "    return study.best_trial"
   ]
  },
  {
   "cell_type": "code",
   "execution_count": 9,
   "id": "298dc001",
   "metadata": {
    "scrolled": true
   },
   "outputs": [
    {
     "name": "stderr",
     "output_type": "stream",
     "text": [
      "\u001b[32m[I 2022-04-11 17:39:30,587]\u001b[0m A new study created in memory with name: no-name-da9a6151-9e63-48d9-b25d-255f868875e6\u001b[0m\n",
      "\u001b[32m[I 2022-04-11 17:39:31,324]\u001b[0m Trial 0 finished with value: 0.5010989010989011 and parameters: {'ngram_range_max': 2, 'min_df': 0.036000000000000004, 'max_df': 0.728, 'analyzer': 'word', 'solver': 'lbfgs', 'C': 1.708, 'multi_class': 'multinomial'}. Best is trial 0 with value: 0.5010989010989011.\u001b[0m\n",
      "\u001b[32m[I 2022-04-11 17:39:31,805]\u001b[0m Trial 1 finished with value: 0.5362338210636783 and parameters: {'ngram_range_max': 3, 'min_df': 0.223, 'max_df': 0.741, 'analyzer': 'char', 'solver': 'liblinear', 'C': 1.883, 'penalty': 'l2'}. Best is trial 1 with value: 0.5362338210636783.\u001b[0m\n",
      "\u001b[32m[I 2022-04-11 17:39:32,008]\u001b[0m Trial 2 finished with value: 0.5177821739182881 and parameters: {'ngram_range_max': 1, 'min_df': 0.042, 'max_df': 0.87, 'analyzer': 'char', 'solver': 'lbfgs', 'C': 1.845, 'multi_class': 'multinomial'}. Best is trial 1 with value: 0.5362338210636783.\u001b[0m\n",
      "\u001b[32m[I 2022-04-11 17:39:32,646]\u001b[0m Trial 3 finished with value: 0.5761952208055391 and parameters: {'ngram_range_max': 4, 'min_df': 0.159, 'max_df': 0.754, 'analyzer': 'char', 'solver': 'lbfgs', 'C': 1.224, 'multi_class': 'ovr'}. Best is trial 3 with value: 0.5761952208055391.\u001b[0m\n",
      "\u001b[32m[I 2022-04-11 17:39:32,845]\u001b[0m Trial 4 finished with value: 0.5232716131289129 and parameters: {'ngram_range_max': 1, 'min_df': 0.032, 'max_df': 0.746, 'analyzer': 'char', 'solver': 'lbfgs', 'C': 1.131, 'multi_class': 'multinomial'}. Best is trial 3 with value: 0.5761952208055391.\u001b[0m\n",
      "\u001b[32m[I 2022-04-11 17:39:33,123]\u001b[0m Trial 5 finished with value: 0.4633290310128949 and parameters: {'ngram_range_max': 4, 'min_df': 0.212, 'max_df': 0.755, 'analyzer': 'word', 'solver': 'lbfgs', 'C': 2.815, 'multi_class': 'ovr'}. Best is trial 3 with value: 0.5761952208055391.\u001b[0m\n",
      "\u001b[32m[I 2022-04-11 17:39:35,463]\u001b[0m Trial 6 finished with value: 0.6862107815346017 and parameters: {'ngram_range_max': 7, 'min_df': 0.017, 'max_df': 0.7969999999999999, 'analyzer': 'char', 'solver': 'lbfgs', 'C': 1.8980000000000001, 'multi_class': 'multinomial'}. Best is trial 6 with value: 0.6862107815346017.\u001b[0m\n",
      "\u001b[32m[I 2022-04-11 17:39:35,618]\u001b[0m Trial 7 finished with value: 0.4633290310128949 and parameters: {'ngram_range_max': 2, 'min_df': 0.191, 'max_df': 0.71, 'analyzer': 'word', 'solver': 'lbfgs', 'C': 2.589, 'multi_class': 'ovr'}. Best is trial 6 with value: 0.6862107815346017.\u001b[0m\n",
      "\u001b[32m[I 2022-04-11 17:39:37,144]\u001b[0m Trial 8 finished with value: 0.5412841823379694 and parameters: {'ngram_range_max': 7, 'min_df': 0.23500000000000001, 'max_df': 0.844, 'analyzer': 'char', 'solver': 'liblinear', 'C': 1.556, 'penalty': 'l2'}. Best is trial 6 with value: 0.6862107815346017.\u001b[0m\n",
      "\u001b[32m[I 2022-04-11 17:39:39,157]\u001b[0m Trial 9 finished with value: 0.5434805370260914 and parameters: {'ngram_range_max': 5, 'min_df': 0.28500000000000003, 'max_df': 0.987, 'analyzer': 'char', 'solver': 'liblinear', 'C': 2.44, 'penalty': 'l1'}. Best is trial 6 with value: 0.6862107815346017.\u001b[0m\n",
      "\u001b[32m[I 2022-04-11 17:39:39,528]\u001b[0m Trial 10 finished with value: 0.5002212277294604 and parameters: {'ngram_range_max': 7, 'min_df': 0.095, 'max_df': 0.827, 'analyzer': 'word', 'solver': 'lbfgs', 'C': 2.241, 'multi_class': 'multinomial'}. Best is trial 6 with value: 0.6862107815346017.\u001b[0m\n",
      "\u001b[32m[I 2022-04-11 17:39:40,382]\u001b[0m Trial 11 finished with value: 0.5823478607013185 and parameters: {'ngram_range_max': 5, 'min_df': 0.127, 'max_df': 0.8039999999999999, 'analyzer': 'char', 'solver': 'lbfgs', 'C': 1.068, 'multi_class': 'ovr'}. Best is trial 6 with value: 0.6862107815346017.\u001b[0m\n",
      "\u001b[32m[I 2022-04-11 17:39:41,622]\u001b[0m Trial 12 finished with value: 0.5937660583105149 and parameters: {'ngram_range_max': 6, 'min_df': 0.10400000000000001, 'max_df': 0.8109999999999999, 'analyzer': 'char', 'solver': 'lbfgs', 'C': 1.437, 'multi_class': 'ovr'}. Best is trial 6 with value: 0.6862107815346017.\u001b[0m\n",
      "\u001b[32m[I 2022-04-11 17:39:42,868]\u001b[0m Trial 13 finished with value: 0.6029895899928831 and parameters: {'ngram_range_max': 6, 'min_df': 0.091, 'max_df': 0.948, 'analyzer': 'char', 'solver': 'lbfgs', 'C': 1.488, 'multi_class': 'ovr'}. Best is trial 6 with value: 0.6862107815346017.\u001b[0m\n",
      "\u001b[32m[I 2022-04-11 17:39:45,137]\u001b[0m Trial 14 finished with value: 0.7002656180263205 and parameters: {'ngram_range_max': 6, 'min_df': 0.007, 'max_df': 0.9279999999999999, 'analyzer': 'char', 'solver': 'lbfgs', 'C': 2.1710000000000003, 'multi_class': 'multinomial'}. Best is trial 14 with value: 0.7002656180263205.\u001b[0m\n",
      "\u001b[32m[I 2022-04-11 17:39:46,531]\u001b[0m Trial 15 finished with value: 0.6778668532345812 and parameters: {'ngram_range_max': 6, 'min_df': 0.02, 'max_df': 0.9059999999999999, 'analyzer': 'char', 'solver': 'liblinear', 'C': 2.222, 'penalty': 'l1'}. Best is trial 14 with value: 0.7002656180263205.\u001b[0m\n",
      "\u001b[32m[I 2022-04-11 17:39:50,017]\u001b[0m Trial 16 finished with value: 0.7217881569582997 and parameters: {'ngram_range_max': 7, 'min_df': 0.0, 'max_df': 0.8939999999999999, 'analyzer': 'char', 'solver': 'lbfgs', 'C': 2.122, 'multi_class': 'multinomial'}. Best is trial 16 with value: 0.7217881569582997.\u001b[0m\n",
      "\u001b[32m[I 2022-04-11 17:39:51,321]\u001b[0m Trial 17 finished with value: 0.6289026670365858 and parameters: {'ngram_range_max': 5, 'min_df': 0.067, 'max_df': 0.9169999999999999, 'analyzer': 'char', 'solver': 'lbfgs', 'C': 2.153, 'multi_class': 'multinomial'}. Best is trial 16 with value: 0.7217881569582997.\u001b[0m\n",
      "\u001b[32m[I 2022-04-11 17:39:51,697]\u001b[0m Trial 18 finished with value: 0.6710599389633419 and parameters: {'ngram_range_max': 6, 'min_df': 0.0, 'max_df': 0.885, 'analyzer': 'word', 'solver': 'liblinear', 'C': 2.459, 'penalty': 'l2'}. Best is trial 16 with value: 0.7217881569582997.\u001b[0m\n",
      "\u001b[32m[I 2022-04-11 17:39:53,832]\u001b[0m Trial 19 finished with value: 0.6350512056549378 and parameters: {'ngram_range_max': 7, 'min_df': 0.063, 'max_df': 0.957, 'analyzer': 'char', 'solver': 'lbfgs', 'C': 2.818, 'multi_class': 'multinomial'}. Best is trial 16 with value: 0.7217881569582997.\u001b[0m\n",
      "\u001b[32m[I 2022-04-11 17:39:54,940]\u001b[0m Trial 20 finished with value: 0.5865178948384218 and parameters: {'ngram_range_max': 5, 'min_df': 0.139, 'max_df': 0.9339999999999999, 'analyzer': 'char', 'solver': 'lbfgs', 'C': 2.0709999999999997, 'multi_class': 'multinomial'}. Best is trial 16 with value: 0.7217881569582997.\u001b[0m\n",
      "\u001b[32m[I 2022-04-11 17:39:58,411]\u001b[0m Trial 21 finished with value: 0.7198115824899579 and parameters: {'ngram_range_max': 7, 'min_df': 0.002, 'max_df': 0.875, 'analyzer': 'char', 'solver': 'lbfgs', 'C': 1.939, 'multi_class': 'multinomial'}. Best is trial 16 with value: 0.7217881569582997.\u001b[0m\n",
      "\u001b[32m[I 2022-04-11 17:40:00,384]\u001b[0m Trial 22 finished with value: 0.6286816805587387 and parameters: {'ngram_range_max': 7, 'min_df': 0.068, 'max_df': 0.881, 'analyzer': 'char', 'solver': 'lbfgs', 'C': 2.362, 'multi_class': 'multinomial'}. Best is trial 16 with value: 0.7217881569582997.\u001b[0m\n",
      "\u001b[32m[I 2022-04-11 17:40:02,654]\u001b[0m Trial 23 finished with value: 0.7029005681475495 and parameters: {'ngram_range_max': 6, 'min_df': 0.007, 'max_df': 0.985, 'analyzer': 'char', 'solver': 'lbfgs', 'C': 2.04, 'multi_class': 'multinomial'}. Best is trial 16 with value: 0.7217881569582997.\u001b[0m\n",
      "\u001b[32m[I 2022-04-11 17:40:04,808]\u001b[0m Trial 24 finished with value: 0.6451478269260925 and parameters: {'ngram_range_max': 7, 'min_df': 0.052000000000000005, 'max_df': 0.9969999999999999, 'analyzer': 'char', 'solver': 'lbfgs', 'C': 1.9889999999999999, 'multi_class': 'multinomial'}. Best is trial 16 with value: 0.7217881569582997.\u001b[0m\n",
      "\u001b[32m[I 2022-04-11 17:40:07,292]\u001b[0m Trial 25 finished with value: 0.7033396460838832 and parameters: {'ngram_range_max': 6, 'min_df': 0.007, 'max_df': 0.969, 'analyzer': 'char', 'solver': 'lbfgs', 'C': 1.77, 'multi_class': 'multinomial'}. Best is trial 16 with value: 0.7217881569582997.\u001b[0m\n",
      "\u001b[32m[I 2022-04-11 17:40:07,772]\u001b[0m Trial 26 finished with value: 0.5000012062580669 and parameters: {'ngram_range_max': 7, 'min_df': 0.033, 'max_df': 0.964, 'analyzer': 'word', 'solver': 'lbfgs', 'C': 1.708, 'multi_class': 'multinomial'}. Best is trial 16 with value: 0.7217881569582997.\u001b[0m\n",
      "\u001b[32m[I 2022-04-11 17:40:09,362]\u001b[0m Trial 27 finished with value: 0.6170441852329888 and parameters: {'ngram_range_max': 6, 'min_df': 0.074, 'max_df': 0.8999999999999999, 'analyzer': 'char', 'solver': 'liblinear', 'C': 1.694, 'penalty': 'l1'}. Best is trial 16 with value: 0.7217881569582997.\u001b[0m\n"
     ]
    },
    {
     "name": "stderr",
     "output_type": "stream",
     "text": [
      "\u001b[32m[I 2022-04-11 17:40:10,408]\u001b[0m Trial 28 finished with value: 0.5992545325146862 and parameters: {'ngram_range_max': 5, 'min_df': 0.117, 'max_df': 0.86, 'analyzer': 'char', 'solver': 'lbfgs', 'C': 1.339, 'multi_class': 'multinomial'}. Best is trial 16 with value: 0.7217881569582997.\u001b[0m\n",
      "\u001b[32m[I 2022-04-11 17:40:10,725]\u001b[0m Trial 29 finished with value: 0.49956043956043955 and parameters: {'ngram_range_max': 3, 'min_df': 0.038, 'max_df': 0.7809999999999999, 'analyzer': 'word', 'solver': 'lbfgs', 'C': 1.639, 'multi_class': 'multinomial'}. Best is trial 16 with value: 0.7217881569582997.\u001b[0m\n",
      "\u001b[32m[I 2022-04-11 17:40:12,807]\u001b[0m Trial 30 finished with value: 0.6480037635251685 and parameters: {'ngram_range_max': 7, 'min_df': 0.05, 'max_df': 0.833, 'analyzer': 'char', 'solver': 'lbfgs', 'C': 2.9939999999999998, 'multi_class': 'multinomial'}. Best is trial 16 with value: 0.7217881569582997.\u001b[0m\n",
      "\u001b[32m[I 2022-04-11 17:40:15,587]\u001b[0m Trial 31 finished with value: 0.7209090360791788 and parameters: {'ngram_range_max': 6, 'min_df': 0.002, 'max_df': 0.974, 'analyzer': 'char', 'solver': 'lbfgs', 'C': 2.004, 'multi_class': 'multinomial'}. Best is trial 16 with value: 0.7217881569582997.\u001b[0m\n",
      "\u001b[32m[I 2022-04-11 17:40:17,590]\u001b[0m Trial 32 finished with value: 0.6769884561103003 and parameters: {'ngram_range_max': 6, 'min_df': 0.023, 'max_df': 0.966, 'analyzer': 'char', 'solver': 'lbfgs', 'C': 1.847, 'multi_class': 'multinomial'}. Best is trial 16 with value: 0.7217881569582997.\u001b[0m\n",
      "\u001b[32m[I 2022-04-11 17:40:20,499]\u001b[0m Trial 33 finished with value: 0.7123414675335641 and parameters: {'ngram_range_max': 7, 'min_df': 0.005, 'max_df': 0.94, 'analyzer': 'char', 'solver': 'lbfgs', 'C': 1.7610000000000001, 'multi_class': 'multinomial'}. Best is trial 16 with value: 0.7217881569582997.\u001b[0m\n",
      "\u001b[32m[I 2022-04-11 17:40:23,965]\u001b[0m Trial 34 finished with value: 0.7202511429295184 and parameters: {'ngram_range_max': 7, 'min_df': 0.002, 'max_df': 0.9349999999999999, 'analyzer': 'char', 'solver': 'lbfgs', 'C': 1.943, 'multi_class': 'multinomial'}. Best is trial 16 with value: 0.7217881569582997.\u001b[0m\n",
      "\u001b[32m[I 2022-04-11 17:40:25,966]\u001b[0m Trial 35 finished with value: 0.6521774164364723 and parameters: {'ngram_range_max': 7, 'min_df': 0.044, 'max_df': 0.903, 'analyzer': 'char', 'solver': 'lbfgs', 'C': 1.9460000000000002, 'multi_class': 'multinomial'}. Best is trial 16 with value: 0.7217881569582997.\u001b[0m\n",
      "\u001b[32m[I 2022-04-11 17:40:26,479]\u001b[0m Trial 36 finished with value: 0.6723771727723429 and parameters: {'ngram_range_max': 3, 'min_df': 0.027, 'max_df': 0.867, 'analyzer': 'char', 'solver': 'liblinear', 'C': 2.3129999999999997, 'penalty': 'l2'}. Best is trial 16 with value: 0.7217881569582997.\u001b[0m\n",
      "\u001b[32m[I 2022-04-11 17:40:27,167]\u001b[0m Trial 37 finished with value: 0.5399633297547677 and parameters: {'ngram_range_max': 4, 'min_df': 0.294, 'max_df': 0.8859999999999999, 'analyzer': 'char', 'solver': 'lbfgs', 'C': 2.0940000000000003, 'multi_class': 'multinomial'}. Best is trial 16 with value: 0.7217881569582997.\u001b[0m\n",
      "\u001b[32m[I 2022-04-11 17:40:27,570]\u001b[0m Trial 38 finished with value: 0.47958070469596265 and parameters: {'ngram_range_max': 7, 'min_df': 0.184, 'max_df': 0.9239999999999999, 'analyzer': 'word', 'solver': 'lbfgs', 'C': 1.9340000000000002, 'multi_class': 'multinomial'}. Best is trial 16 with value: 0.7217881569582997.\u001b[0m\n",
      "\u001b[32m[I 2022-04-11 17:40:28,541]\u001b[0m Trial 39 finished with value: 0.6218754900423396 and parameters: {'ngram_range_max': 4, 'min_df': 0.081, 'max_df': 0.9119999999999999, 'analyzer': 'char', 'solver': 'lbfgs', 'C': 2.5380000000000003, 'multi_class': 'multinomial'}. Best is trial 16 with value: 0.7217881569582997.\u001b[0m\n",
      "\u001b[32m[I 2022-04-11 17:40:28,912]\u001b[0m Trial 40 finished with value: 0.5406265304399224 and parameters: {'ngram_range_max': 2, 'min_df': 0.262, 'max_df': 0.856, 'analyzer': 'char', 'solver': 'lbfgs', 'C': 1.8130000000000002, 'multi_class': 'multinomial'}. Best is trial 16 with value: 0.7217881569582997.\u001b[0m\n",
      "\u001b[32m[I 2022-04-11 17:40:32,224]\u001b[0m Trial 41 finished with value: 0.7184948311841837 and parameters: {'ngram_range_max': 7, 'min_df': 0.001, 'max_df': 0.9289999999999999, 'analyzer': 'char', 'solver': 'lbfgs', 'C': 1.609, 'multi_class': 'multinomial'}. Best is trial 16 with value: 0.7217881569582997.\u001b[0m\n",
      "\u001b[32m[I 2022-04-11 17:40:34,480]\u001b[0m Trial 42 finished with value: 0.6794053147730426 and parameters: {'ngram_range_max': 7, 'min_df': 0.021, 'max_df': 0.947, 'analyzer': 'char', 'solver': 'lbfgs', 'C': 1.5630000000000002, 'multi_class': 'multinomial'}. Best is trial 16 with value: 0.7217881569582997.\u001b[0m\n",
      "\u001b[32m[I 2022-04-11 17:40:36,478]\u001b[0m Trial 43 finished with value: 0.6583261963064378 and parameters: {'ngram_range_max': 7, 'min_df': 0.036000000000000004, 'max_df': 0.981, 'analyzer': 'char', 'solver': 'lbfgs', 'C': 1.241, 'multi_class': 'multinomial'}. Best is trial 16 with value: 0.7217881569582997.\u001b[0m\n",
      "\u001b[32m[I 2022-04-11 17:40:39,856]\u001b[0m Trial 44 finished with value: 0.7206909446206922 and parameters: {'ngram_range_max': 7, 'min_df': 0.0, 'max_df': 0.8899999999999999, 'analyzer': 'char', 'solver': 'lbfgs', 'C': 1.8900000000000001, 'multi_class': 'multinomial'}. Best is trial 16 with value: 0.7217881569582997.\u001b[0m\n",
      "\u001b[32m[I 2022-04-11 17:40:41,395]\u001b[0m Trial 45 finished with value: 0.6385618991327005 and parameters: {'ngram_range_max': 6, 'min_df': 0.054, 'max_df': 0.889, 'analyzer': 'char', 'solver': 'lbfgs', 'C': 1.861, 'multi_class': 'multinomial'}. Best is trial 16 with value: 0.7217881569582997.\u001b[0m\n",
      "\u001b[32m[I 2022-04-11 17:40:41,626]\u001b[0m Trial 46 finished with value: 0.5278826552152568 and parameters: {'ngram_range_max': 1, 'min_df': 0.014, 'max_df': 0.842, 'analyzer': 'char', 'solver': 'liblinear', 'C': 2.0140000000000002, 'penalty': 'l1'}. Best is trial 16 with value: 0.7217881569582997.\u001b[0m\n",
      "\u001b[32m[I 2022-04-11 17:40:42,031]\u001b[0m Trial 47 finished with value: 0.5131735443480778 and parameters: {'ngram_range_max': 7, 'min_df': 0.028, 'max_df': 0.867, 'analyzer': 'word', 'solver': 'lbfgs', 'C': 2.292, 'multi_class': 'ovr'}. Best is trial 16 with value: 0.7217881569582997.\u001b[0m\n",
      "\u001b[32m[I 2022-04-11 17:40:43,439]\u001b[0m Trial 48 finished with value: 0.5858573479210143 and parameters: {'ngram_range_max': 6, 'min_df': 0.168, 'max_df': 0.895, 'analyzer': 'char', 'solver': 'lbfgs', 'C': 2.144, 'multi_class': 'multinomial'}. Best is trial 16 with value: 0.7217881569582997.\u001b[0m\n",
      "\u001b[32m[I 2022-04-11 17:40:45,965]\u001b[0m Trial 49 finished with value: 0.6974108876853113 and parameters: {'ngram_range_max': 7, 'min_df': 0.012, 'max_df': 0.823, 'analyzer': 'char', 'solver': 'lbfgs', 'C': 1.912, 'multi_class': 'multinomial'}. Best is trial 16 with value: 0.7217881569582997.\u001b[0m\n",
      "\u001b[32m[I 2022-04-11 17:40:47,362]\u001b[0m Trial 50 finished with value: 0.6925776528630536 and parameters: {'ngram_range_max': 6, 'min_df': 0.0, 'max_df': 0.874, 'analyzer': 'char', 'solver': 'liblinear', 'C': 2.232, 'penalty': 'l1'}. Best is trial 16 with value: 0.7217881569582997.\u001b[0m\n",
      "\u001b[32m[I 2022-04-11 17:40:49,751]\u001b[0m Trial 51 finished with value: 0.6846737675058202 and parameters: {'ngram_range_max': 7, 'min_df': 0.018000000000000002, 'max_df': 0.9199999999999999, 'analyzer': 'char', 'solver': 'lbfgs', 'C': 1.673, 'multi_class': 'multinomial'}. Best is trial 16 with value: 0.7217881569582997.\u001b[0m\n",
      "\u001b[32m[I 2022-04-11 17:40:52,904]\u001b[0m Trial 52 finished with value: 0.7173971363433493 and parameters: {'ngram_range_max': 7, 'min_df': 0.001, 'max_df': 0.948, 'analyzer': 'char', 'solver': 'lbfgs', 'C': 1.597, 'multi_class': 'multinomial'}. Best is trial 16 with value: 0.7217881569582997.\u001b[0m\n",
      "\u001b[32m[I 2022-04-11 17:40:54,627]\u001b[0m Trial 53 finished with value: 0.6396612827348283 and parameters: {'ngram_range_max': 7, 'min_df': 0.041, 'max_df': 0.907, 'analyzer': 'char', 'solver': 'lbfgs', 'C': 1.49, 'multi_class': 'ovr'}. Best is trial 16 with value: 0.7217881569582997.\u001b[0m\n",
      "\u001b[32m[I 2022-04-11 17:40:56,562]\u001b[0m Trial 54 finished with value: 0.6879666107767095 and parameters: {'ngram_range_max': 6, 'min_df': 0.017, 'max_df': 0.9159999999999999, 'analyzer': 'char', 'solver': 'lbfgs', 'C': 2.084, 'multi_class': 'multinomial'}. Best is trial 16 with value: 0.7217881569582997.\u001b[0m\n",
      "\u001b[32m[I 2022-04-11 17:40:58,716]\u001b[0m Trial 55 finished with value: 0.6706194135173278 and parameters: {'ngram_range_max': 7, 'min_df': 0.028, 'max_df': 0.9329999999999999, 'analyzer': 'char', 'solver': 'lbfgs', 'C': 1.767, 'multi_class': 'multinomial'}. Best is trial 16 with value: 0.7217881569582997.\u001b[0m\n"
     ]
    },
    {
     "name": "stderr",
     "output_type": "stream",
     "text": [
      "\u001b[32m[I 2022-04-11 17:41:00,113]\u001b[0m Trial 56 finished with value: 0.6394427087731149 and parameters: {'ngram_range_max': 5, 'min_df': 0.059000000000000004, 'max_df': 1.0, 'analyzer': 'char', 'solver': 'lbfgs', 'C': 2.0090000000000003, 'multi_class': 'multinomial'}. Best is trial 16 with value: 0.7217881569582997.\u001b[0m\n",
      "\u001b[32m[I 2022-04-11 17:41:01,823]\u001b[0m Trial 57 finished with value: 0.562142314326727 and parameters: {'ngram_range_max': 7, 'min_df': 0.222, 'max_df': 0.974, 'analyzer': 'char', 'solver': 'lbfgs', 'C': 2.182, 'multi_class': 'ovr'}. Best is trial 16 with value: 0.7217881569582997.\u001b[0m\n",
      "\u001b[32m[I 2022-04-11 17:41:02,267]\u001b[0m Trial 58 finished with value: 0.5303014438909059 and parameters: {'ngram_range_max': 6, 'min_df': 0.013000000000000001, 'max_df': 0.957, 'analyzer': 'word', 'solver': 'lbfgs', 'C': 2.403, 'multi_class': 'multinomial'}. Best is trial 16 with value: 0.7217881569582997.\u001b[0m\n",
      "\u001b[32m[I 2022-04-11 17:41:04,268]\u001b[0m Trial 59 finished with value: 0.6471256076525012 and parameters: {'ngram_range_max': 7, 'min_df': 0.045, 'max_df': 0.877, 'analyzer': 'char', 'solver': 'lbfgs', 'C': 1.9460000000000002, 'multi_class': 'multinomial'}. Best is trial 16 with value: 0.7217881569582997.\u001b[0m\n",
      "\u001b[32m[I 2022-04-11 17:41:05,871]\u001b[0m Trial 60 finished with value: 0.7160777312698279 and parameters: {'ngram_range_max': 6, 'min_df': 0.0, 'max_df': 0.895, 'analyzer': 'char', 'solver': 'liblinear', 'C': 1.3679999999999999, 'penalty': 'l2'}. Best is trial 16 with value: 0.7217881569582997.\u001b[0m\n",
      "\u001b[32m[I 2022-04-11 17:41:09,257]\u001b[0m Trial 61 finished with value: 0.7193727458052376 and parameters: {'ngram_range_max': 7, 'min_df': 0.0, 'max_df': 0.946, 'analyzer': 'char', 'solver': 'lbfgs', 'C': 1.558, 'multi_class': 'multinomial'}. Best is trial 16 with value: 0.7217881569582997.\u001b[0m\n",
      "\u001b[32m[I 2022-04-11 17:41:11,812]\u001b[0m Trial 62 finished with value: 0.6969727747554312 and parameters: {'ngram_range_max': 7, 'min_df': 0.011, 'max_df': 0.9259999999999999, 'analyzer': 'char', 'solver': 'lbfgs', 'C': 1.518, 'multi_class': 'multinomial'}. Best is trial 16 with value: 0.7217881569582997.\u001b[0m\n",
      "\u001b[32m[I 2022-04-11 17:41:14,109]\u001b[0m Trial 63 finished with value: 0.6708389524854946 and parameters: {'ngram_range_max': 7, 'min_df': 0.028, 'max_df': 0.952, 'analyzer': 'char', 'solver': 'lbfgs', 'C': 1.858, 'multi_class': 'multinomial'}. Best is trial 16 with value: 0.7217881569582997.\u001b[0m\n",
      "\u001b[32m[I 2022-04-11 17:41:16,156]\u001b[0m Trial 64 finished with value: 0.6629377208960087 and parameters: {'ngram_range_max': 7, 'min_df': 0.035, 'max_df': 0.9369999999999999, 'analyzer': 'char', 'solver': 'lbfgs', 'C': 1.6280000000000001, 'multi_class': 'multinomial'}. Best is trial 16 with value: 0.7217881569582997.\u001b[0m\n",
      "\u001b[32m[I 2022-04-11 17:41:18,700]\u001b[0m Trial 65 finished with value: 0.6963134340960906 and parameters: {'ngram_range_max': 7, 'min_df': 0.01, 'max_df': 0.977, 'analyzer': 'char', 'solver': 'lbfgs', 'C': 1.412, 'multi_class': 'multinomial'}. Best is trial 16 with value: 0.7217881569582997.\u001b[0m\n",
      "\u001b[32m[I 2022-04-11 17:41:21,207]\u001b[0m Trial 66 finished with value: 0.7215676529836793 and parameters: {'ngram_range_max': 5, 'min_df': 0.0, 'max_df': 0.94, 'analyzer': 'char', 'solver': 'lbfgs', 'C': 1.717, 'multi_class': 'multinomial'}. Best is trial 16 with value: 0.7217881569582997.\u001b[0m\n",
      "\u001b[32m[I 2022-04-11 17:41:22,262]\u001b[0m Trial 67 finished with value: 0.6763315279670932 and parameters: {'ngram_range_max': 5, 'min_df': 0.02, 'max_df': 0.961, 'analyzer': 'char', 'solver': 'lbfgs', 'C': 1.725, 'multi_class': 'ovr'}. Best is trial 16 with value: 0.7217881569582997.\u001b[0m\n",
      "\u001b[32m[I 2022-04-11 17:41:22,638]\u001b[0m Trial 68 finished with value: 0.514709834622019 and parameters: {'ngram_range_max': 5, 'min_df': 0.022, 'max_df': 0.725, 'analyzer': 'word', 'solver': 'lbfgs', 'C': 1.82, 'multi_class': 'multinomial'}. Best is trial 16 with value: 0.7217881569582997.\u001b[0m\n",
      "\u001b[32m[I 2022-04-11 17:41:24,012]\u001b[0m Trial 69 finished with value: 0.6969715684973643 and parameters: {'ngram_range_max': 4, 'min_df': 0.011, 'max_df': 0.852, 'analyzer': 'char', 'solver': 'lbfgs', 'C': 2.101, 'multi_class': 'multinomial'}. Best is trial 16 with value: 0.7217881569582997.\u001b[0m\n",
      "\u001b[32m[I 2022-04-11 17:41:25,816]\u001b[0m Trial 70 finished with value: 0.662497436701608 and parameters: {'ngram_range_max': 6, 'min_df': 0.034, 'max_df': 0.992, 'analyzer': 'char', 'solver': 'lbfgs', 'C': 1.9769999999999999, 'multi_class': 'multinomial'}. Best is trial 16 with value: 0.7217881569582997.\u001b[0m\n",
      "\u001b[32m[I 2022-04-11 17:41:28,560]\u001b[0m Trial 71 finished with value: 0.7211283337957323 and parameters: {'ngram_range_max': 6, 'min_df': 0.002, 'max_df': 0.943, 'analyzer': 'char', 'solver': 'lbfgs', 'C': 1.892, 'multi_class': 'multinomial'}. Best is trial 16 with value: 0.7217881569582997.\u001b[0m\n",
      "\u001b[32m[I 2022-04-11 17:41:30,300]\u001b[0m Trial 72 finished with value: 0.6993872209020399 and parameters: {'ngram_range_max': 5, 'min_df': 0.008, 'max_df': 0.943, 'analyzer': 'char', 'solver': 'lbfgs', 'C': 1.909, 'multi_class': 'multinomial'}. Best is trial 16 with value: 0.7217881569582997.\u001b[0m\n",
      "\u001b[32m[I 2022-04-11 17:41:32,353]\u001b[0m Trial 73 finished with value: 0.6807232723368838 and parameters: {'ngram_range_max': 6, 'min_df': 0.021, 'max_df': 0.97, 'analyzer': 'char', 'solver': 'lbfgs', 'C': 2.042, 'multi_class': 'multinomial'}. Best is trial 16 with value: 0.7217881569582997.\u001b[0m\n",
      "\u001b[32m[I 2022-04-11 17:41:35,126]\u001b[0m Trial 74 finished with value: 0.723327100999988 and parameters: {'ngram_range_max': 6, 'min_df': 0.0, 'max_df': 0.9109999999999999, 'analyzer': 'char', 'solver': 'lbfgs', 'C': 1.7770000000000001, 'multi_class': 'multinomial'}. Best is trial 74 with value: 0.723327100999988.\u001b[0m\n",
      "\u001b[32m[I 2022-04-11 17:41:36,662]\u001b[0m Trial 75 finished with value: 0.6464677145028407 and parameters: {'ngram_range_max': 6, 'min_df': 0.046, 'max_df': 0.9129999999999999, 'analyzer': 'char', 'solver': 'lbfgs', 'C': 1.811, 'multi_class': 'multinomial'}. Best is trial 74 with value: 0.723327100999988.\u001b[0m\n",
      "\u001b[32m[I 2022-04-11 17:41:38,387]\u001b[0m Trial 76 finished with value: 0.7029012919023897 and parameters: {'ngram_range_max': 5, 'min_df': 0.007, 'max_df': 0.8939999999999999, 'analyzer': 'char', 'solver': 'lbfgs', 'C': 1.766, 'multi_class': 'multinomial'}. Best is trial 74 with value: 0.723327100999988.\u001b[0m\n",
      "\u001b[32m[I 2022-04-11 17:41:39,605]\u001b[0m Trial 77 finished with value: 0.5439200974656518 and parameters: {'ngram_range_max': 6, 'min_df': 0.259, 'max_df': 0.907, 'analyzer': 'char', 'solver': 'liblinear', 'C': 1.877, 'penalty': 'l2'}. Best is trial 74 with value: 0.723327100999988.\u001b[0m\n",
      "\u001b[32m[I 2022-04-11 17:41:40,735]\u001b[0m Trial 78 finished with value: 0.5968371913487173 and parameters: {'ngram_range_max': 5, 'min_df': 0.113, 'max_df': 0.866, 'analyzer': 'char', 'solver': 'lbfgs', 'C': 1.9769999999999999, 'multi_class': 'multinomial'}. Best is trial 74 with value: 0.723327100999988.\u001b[0m\n",
      "\u001b[32m[I 2022-04-11 17:41:42,685]\u001b[0m Trial 79 finished with value: 0.6875272915887625 and parameters: {'ngram_range_max': 6, 'min_df': 0.017, 'max_df': 0.885, 'analyzer': 'char', 'solver': 'lbfgs', 'C': 2.1470000000000002, 'multi_class': 'multinomial'}. Best is trial 74 with value: 0.723327100999988.\u001b[0m\n",
      "\u001b[32m[I 2022-04-11 17:41:43,111]\u001b[0m Trial 80 finished with value: 0.5092230491791414 and parameters: {'ngram_range_max': 6, 'min_df': 0.03, 'max_df': 0.8999999999999999, 'analyzer': 'word', 'solver': 'lbfgs', 'C': 1.897, 'multi_class': 'multinomial'}. Best is trial 74 with value: 0.723327100999988.\u001b[0m\n",
      "\u001b[32m[I 2022-04-11 17:41:46,256]\u001b[0m Trial 81 finished with value: 0.719372987056851 and parameters: {'ngram_range_max': 7, 'min_df': 0.0, 'max_df': 0.9249999999999999, 'analyzer': 'char', 'solver': 'lbfgs', 'C': 1.691, 'multi_class': 'multinomial'}. Best is trial 74 with value: 0.723327100999988.\u001b[0m\n",
      "\u001b[32m[I 2022-04-11 17:41:48,910]\u001b[0m Trial 82 finished with value: 0.7026812704309962 and parameters: {'ngram_range_max': 7, 'min_df': 0.007, 'max_df': 0.9219999999999999, 'analyzer': 'char', 'solver': 'lbfgs', 'C': 1.724, 'multi_class': 'multinomial'}. Best is trial 74 with value: 0.723327100999988.\u001b[0m\n",
      "\u001b[32m[I 2022-04-11 17:41:51,651]\u001b[0m Trial 83 finished with value: 0.7228875405604275 and parameters: {'ngram_range_max': 6, 'min_df': 0.0, 'max_df': 0.9299999999999999, 'analyzer': 'char', 'solver': 'lbfgs', 'C': 1.666, 'multi_class': 'multinomial'}. Best is trial 74 with value: 0.723327100999988.\u001b[0m\n"
     ]
    },
    {
     "name": "stderr",
     "output_type": "stream",
     "text": [
      "\u001b[32m[I 2022-04-11 17:41:53,750]\u001b[0m Trial 84 finished with value: 0.6930186608122941 and parameters: {'ngram_range_max': 6, 'min_df': 0.014, 'max_df': 0.9369999999999999, 'analyzer': 'char', 'solver': 'lbfgs', 'C': 2.041, 'multi_class': 'multinomial'}. Best is trial 74 with value: 0.723327100999988.\u001b[0m\n",
      "\u001b[32m[I 2022-04-11 17:41:55,646]\u001b[0m Trial 85 finished with value: 0.6785269176487618 and parameters: {'ngram_range_max': 6, 'min_df': 0.024, 'max_df': 0.954, 'analyzer': 'char', 'solver': 'lbfgs', 'C': 1.8290000000000002, 'multi_class': 'multinomial'}. Best is trial 74 with value: 0.723327100999988.\u001b[0m\n",
      "\u001b[32m[I 2022-04-11 17:41:57,447]\u001b[0m Trial 86 finished with value: 0.7015835755901618 and parameters: {'ngram_range_max': 5, 'min_df': 0.007, 'max_df': 0.8799999999999999, 'analyzer': 'char', 'solver': 'lbfgs', 'C': 1.7930000000000001, 'multi_class': 'multinomial'}. Best is trial 74 with value: 0.723327100999988.\u001b[0m\n",
      "\u001b[32m[I 2022-04-11 17:41:58,804]\u001b[0m Trial 87 finished with value: 0.6903829869362251 and parameters: {'ngram_range_max': 6, 'min_df': 0.015, 'max_df': 0.9319999999999999, 'analyzer': 'char', 'solver': 'lbfgs', 'C': 1.9460000000000002, 'multi_class': 'ovr'}. Best is trial 74 with value: 0.723327100999988.\u001b[0m\n",
      "\u001b[32m[I 2022-04-11 17:41:59,605]\u001b[0m Trial 88 finished with value: 0.5873953269562491 and parameters: {'ngram_range_max': 4, 'min_df': 0.14400000000000002, 'max_df': 0.9119999999999999, 'analyzer': 'char', 'solver': 'lbfgs', 'C': 1.651, 'multi_class': 'multinomial'}. Best is trial 74 with value: 0.723327100999988.\u001b[0m\n",
      "\u001b[32m[I 2022-04-11 17:42:01,111]\u001b[0m Trial 89 finished with value: 0.644270877311492 and parameters: {'ngram_range_max': 6, 'min_df': 0.04, 'max_df': 0.7819999999999999, 'analyzer': 'char', 'solver': 'liblinear', 'C': 2.266, 'penalty': 'l1'}. Best is trial 74 with value: 0.723327100999988.\u001b[0m\n",
      "\u001b[32m[I 2022-04-11 17:42:02,584]\u001b[0m Trial 90 finished with value: 0.6778678182410346 and parameters: {'ngram_range_max': 5, 'min_df': 0.026000000000000002, 'max_df': 0.903, 'analyzer': 'char', 'solver': 'lbfgs', 'C': 2.19, 'multi_class': 'multinomial'}. Best is trial 74 with value: 0.723327100999988.\u001b[0m\n",
      "\u001b[32m[I 2022-04-11 17:42:06,078]\u001b[0m Trial 91 finished with value: 0.7195925260250179 and parameters: {'ngram_range_max': 7, 'min_df': 0.0, 'max_df': 0.9199999999999999, 'analyzer': 'char', 'solver': 'lbfgs', 'C': 1.724, 'multi_class': 'multinomial'}. Best is trial 74 with value: 0.723327100999988.\u001b[0m\n",
      "\u001b[32m[I 2022-04-11 17:42:09,214]\u001b[0m Trial 92 finished with value: 0.7123414675335641 and parameters: {'ngram_range_max': 7, 'min_df': 0.005, 'max_df': 0.8899999999999999, 'analyzer': 'char', 'solver': 'lbfgs', 'C': 1.7349999999999999, 'multi_class': 'multinomial'}. Best is trial 74 with value: 0.723327100999988.\u001b[0m\n",
      "\u001b[32m[I 2022-04-11 17:42:11,607]\u001b[0m Trial 93 finished with value: 0.6877470718085427 and parameters: {'ngram_range_max': 7, 'min_df': 0.016, 'max_df': 0.9119999999999999, 'analyzer': 'char', 'solver': 'lbfgs', 'C': 1.8559999999999999, 'multi_class': 'multinomial'}. Best is trial 74 with value: 0.723327100999988.\u001b[0m\n",
      "\u001b[32m[I 2022-04-11 17:42:14,918]\u001b[0m Trial 94 finished with value: 0.7220074546748532 and parameters: {'ngram_range_max': 7, 'min_df': 0.0, 'max_df': 0.941, 'analyzer': 'char', 'solver': 'lbfgs', 'C': 1.9809999999999999, 'multi_class': 'multinomial'}. Best is trial 74 with value: 0.723327100999988.\u001b[0m\n",
      "\u001b[32m[I 2022-04-11 17:42:17,213]\u001b[0m Trial 95 finished with value: 0.7009242349308211 and parameters: {'ngram_range_max': 6, 'min_df': 0.007, 'max_df': 0.94, 'analyzer': 'char', 'solver': 'lbfgs', 'C': 2.121, 'multi_class': 'multinomial'}. Best is trial 74 with value: 0.723327100999988.\u001b[0m\n",
      "\u001b[32m[I 2022-04-11 17:42:19,474]\u001b[0m Trial 96 finished with value: 0.6644728049118829 and parameters: {'ngram_range_max': 7, 'min_df': 0.032, 'max_df': 0.964, 'analyzer': 'char', 'solver': 'lbfgs', 'C': 2.06, 'multi_class': 'multinomial'}. Best is trial 74 with value: 0.723327100999988.\u001b[0m\n",
      "\u001b[32m[I 2022-04-11 17:42:22,072]\u001b[0m Trial 97 finished with value: 0.6813826129962244 and parameters: {'ngram_range_max': 7, 'min_df': 0.02, 'max_df': 0.984, 'analyzer': 'char', 'solver': 'lbfgs', 'C': 1.991, 'multi_class': 'multinomial'}. Best is trial 74 with value: 0.723327100999988.\u001b[0m\n",
      "\u001b[32m[I 2022-04-11 17:42:22,580]\u001b[0m Trial 98 finished with value: 0.5364509475157114 and parameters: {'ngram_range_max': 6, 'min_df': 0.012, 'max_df': 0.954, 'analyzer': 'word', 'solver': 'lbfgs', 'C': 1.924, 'multi_class': 'multinomial'}. Best is trial 74 with value: 0.723327100999988.\u001b[0m\n",
      "\u001b[32m[I 2022-04-11 17:42:25,461]\u001b[0m Trial 99 finished with value: 0.7125612477533443 and parameters: {'ngram_range_max': 7, 'min_df': 0.005, 'max_df': 0.9269999999999999, 'analyzer': 'char', 'solver': 'lbfgs', 'C': 1.972, 'multi_class': 'multinomial'}. Best is trial 74 with value: 0.723327100999988.\u001b[0m\n"
     ]
    }
   ],
   "source": [
    "best_trial = tune_logreg(temp_cfg, dataset, 100)"
   ]
  },
  {
   "cell_type": "code",
   "execution_count": 10,
   "id": "c89a3d1d",
   "metadata": {},
   "outputs": [
    {
     "data": {
      "text/plain": [
       "{'tfidf': {'ngram_range': (1, 6),\n",
       "  'min_df': 0.0,\n",
       "  'analyzer': 'char',\n",
       "  'max_features': 20000,\n",
       "  'stop_words': 'english',\n",
       "  'norm': 'l2',\n",
       "  'use_idf': True,\n",
       "  'binary': False,\n",
       "  'sublinear_tf': False,\n",
       "  'max_df': 0.9109999999999999},\n",
       " 'logit': {'C': 1.7770000000000001,\n",
       "  'random_state': 17,\n",
       "  'multi_class': 'multinomial',\n",
       "  'solver': 'lbfgs',\n",
       "  'n_jobs': 4,\n",
       "  'max_iter': 500,\n",
       "  'penalty': 'l2'}}"
      ]
     },
     "execution_count": 10,
     "metadata": {},
     "output_type": "execute_result"
    }
   ],
   "source": [
    "best_trial.user_attrs[\"cfg\"]"
   ]
  },
  {
   "cell_type": "markdown",
   "id": "ceb2c2ba",
   "metadata": {},
   "source": [
    "### Learning Curves"
   ]
  },
  {
   "cell_type": "code",
   "execution_count": 11,
   "id": "cf8d72e8",
   "metadata": {},
   "outputs": [],
   "source": [
    "best_cfg = best_trial.user_attrs[\"cfg\"]\n",
    "\n",
    "skf = StratifiedKFold(n_splits=5, shuffle=True, random_state=17)\n",
    "\n",
    "title_transformer = TfidfVectorizer(**best_cfg[\"tfidf\"])\n",
    "logit = LogisticRegression(**best_cfg[\"logit\"])\n",
    "\n",
    "model = Pipeline([('tfidf', title_transformer), ('logit', logit)])"
   ]
  },
  {
   "cell_type": "code",
   "execution_count": 12,
   "id": "ed87e2d5",
   "metadata": {
    "scrolled": true
   },
   "outputs": [
    {
     "name": "stdout",
     "output_type": "stream",
     "text": [
      "[learning_curve] Training set sizes: [ 364  728 1092 1457 1821 2185 2550 2914 3278 3643]\n"
     ]
    },
    {
     "name": "stderr",
     "output_type": "stream",
     "text": [
      "[Parallel(n_jobs=5)]: Using backend LokyBackend with 5 concurrent workers.\n",
      "[Parallel(n_jobs=5)]: Done  50 out of  50 | elapsed:   21.0s finished\n"
     ]
    }
   ],
   "source": [
    "train_sizes, train_scores, val_scores = learning_curve(\n",
    "    estimator=model, \n",
    "    X=dataset['title'], \n",
    "    y=dataset['sentiment'], \n",
    "    train_sizes=np.linspace(.1, 1, 10),\n",
    "    cv=skf, \n",
    "    n_jobs=5, \n",
    "    verbose=1\n",
    ")"
   ]
  },
  {
   "cell_type": "code",
   "execution_count": 13,
   "id": "e657e9c8",
   "metadata": {},
   "outputs": [],
   "source": [
    "# helper function\n",
    "\n",
    "def plot_with_err(x, data, **kwargs):\n",
    "    mu, std = data.mean(1), data.std(1)\n",
    "    lines = plt.plot(x, mu, '-', **kwargs)\n",
    "    plt.fill_between(x, mu - std, mu + std, edgecolor='none',\n",
    "                     facecolor=lines[0].get_color(), alpha=0.2)"
   ]
  },
  {
   "cell_type": "code",
   "execution_count": 14,
   "id": "cc1057c3",
   "metadata": {},
   "outputs": [
    {
     "data": {
      "image/png": "[encoded data removed]",
      "text/plain": [
       "<Figure size 432x288 with 1 Axes>"
      ]
     },
     "metadata": {
      "image/png": {
       "height": 277,
       "width": 385
      },
      "needs_background": "light"
     },
     "output_type": "display_data"
    }
   ],
   "source": [
    "plot_with_err(train_sizes, train_scores, label='training scores')\n",
    "plot_with_err(train_sizes, val_scores, label='validation scores')\n",
    "plt.xlabel('train size')\n",
    "plt.ylabel('5-fold CV accuracy (mean +/- std)')\n",
    "plt.legend()\n",
    "plt.grid(True);\n",
    "plt.ylim(.5, 1)\n",
    "plt.title('4500 titles. Tf-Idf+logit learning curves')\n",
    "plt.savefig('../figures/20220408_learning_curves_baseline_model_4500_titles.png',\n",
    "           dpi=300)"
   ]
  },
  {
   "cell_type": "code",
   "execution_count": null,
   "id": "321ecc9d",
   "metadata": {},
   "outputs": [],
   "source": []
  }
 ],
 "metadata": {
  "kernelspec": {
   "display_name": "Python 3 (ipykernel)",
   "language": "python",
   "name": "python3"
  },
  "language_info": {
   "codemirror_mode": {
    "name": "ipython",
    "version": 3
   },
   "file_extension": ".py",
   "mimetype": "text/x-python",
   "name": "python",
   "nbconvert_exporter": "python",
   "pygments_lexer": "ipython3",
   "version": "3.9.7"
  }
 },
 "nbformat": 4,
 "nbformat_minor": 5
}
