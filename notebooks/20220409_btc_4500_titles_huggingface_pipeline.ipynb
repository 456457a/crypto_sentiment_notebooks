{
 "cells": [
  {
   "cell_type": "markdown",
   "id": "0fb735e5",
   "metadata": {},
   "source": [
    "#### Author\n",
    "Victor Aleksandrin\n",
    "\n",
    "#### Reference\n",
    "[Notion ticket](https://www.notion.so/a74951e4e815480584dea7d61ddce6cc?v=dbfdb1207d0e451b827d3c5041ed0cfd&p=7fd764a4d88643feb275ff4ab37911c6)\n",
    "\n",
    "#### Idea\n",
    "Build simple Hugging Face baseline. \n",
    "\n",
    "#### Data\n",
    "4500 cryptonews titles labeled as positive, neutral or negative – zipped pwd-protected [CSV](https://drive.google.com/file/d/1Apr3YPZVf0kOJ5Pc1RYDoQxTdjJPbnt4/view?usp=sharing) (not to be shared outside of the project!)\n",
    "\n",
    "#### Result\n",
    "See the plot below. Cross-validation accuracy is increasing with data set size. Final accuracy of baseline model approx 79.2"
   ]
  },
  {
   "cell_type": "code",
   "execution_count": 1,
   "id": "36fa5713",
   "metadata": {},
   "outputs": [
    {
     "data": {
      "text/plain": [
       "42"
      ]
     },
     "execution_count": 1,
     "metadata": {},
     "output_type": "execute_result"
    }
   ],
   "source": [
    "from datasets import load_dataset, load_metric\n",
    "from transformers import (\n",
    "    TrainingArguments, Trainer, \n",
    "    AdamW, get_scheduler,\n",
    "    AutoModelForSequenceClassification,\n",
    "    AutoTokenizer\n",
    ")\n",
    "\n",
    "import pandas as pd\n",
    "import numpy as np\n",
    "from copy import deepcopy\n",
    "import matplotlib.pyplot as plt\n",
    "import yaml\n",
    "from importlib import import_module\n",
    "\n",
    "from sklearn.model_selection import train_test_split, StratifiedKFold\n",
    "from sklearn.preprocessing import LabelEncoder\n",
    "from typing import Dict, Any, Tuple, List, Union, Callable\n",
    "\n",
    "import torch\n",
    "from torch import Tensor\n",
    "from torch.utils.data import Dataset, DataLoader\n",
    "\n",
    "import pytorch_lightning as pl\n",
    "from pytorch_lightning import Trainer as Pl_trainer\n",
    "from pytorch_lightning import seed_everything, Callback\n",
    "from sklearn.metrics import classification_report\n",
    "\n",
    "import warnings\n",
    "warnings.filterwarnings('ignore')\n",
    "\n",
    "import logging\n",
    "logging.disable(logging.INFO)\n",
    "logging.disable(logging.WARNING)\n",
    "\n",
    "seed_everything(42)"
   ]
  },
  {
   "cell_type": "markdown",
   "id": "8ca74c4e",
   "metadata": {},
   "source": [
    "### Read data"
   ]
  },
  {
   "cell_type": "code",
   "execution_count": 2,
   "id": "ba782640",
   "metadata": {},
   "outputs": [],
   "source": [
    "DATA_PATH = '../data/20190110_train_4500.csv'"
   ]
  },
  {
   "cell_type": "code",
   "execution_count": 3,
   "id": "943a6ce8",
   "metadata": {},
   "outputs": [],
   "source": [
    "dataset = pd.read_csv(DATA_PATH)"
   ]
  },
  {
   "cell_type": "code",
   "execution_count": 4,
   "id": "062f24a7",
   "metadata": {},
   "outputs": [
    {
     "data": {
      "text/html": [
       "<div>\n",
       "<style scoped>\n",
       "    .dataframe tbody tr th:only-of-type {\n",
       "        vertical-align: middle;\n",
       "    }\n",
       "\n",
       "    .dataframe tbody tr th {\n",
       "        vertical-align: top;\n",
       "    }\n",
       "\n",
       "    .dataframe thead th {\n",
       "        text-align: right;\n",
       "    }\n",
       "</style>\n",
       "<table border=\"1\" class=\"dataframe\">\n",
       "  <thead>\n",
       "    <tr style=\"text-align: right;\">\n",
       "      <th></th>\n",
       "      <th>title</th>\n",
       "      <th>sentiment</th>\n",
       "    </tr>\n",
       "  </thead>\n",
       "  <tbody>\n",
       "    <tr>\n",
       "      <th>0</th>\n",
       "      <td>Bitcoin Market Has Run Out of Juice: Cryptocur...</td>\n",
       "      <td>Negative</td>\n",
       "    </tr>\n",
       "    <tr>\n",
       "      <th>1</th>\n",
       "      <td>Bitcoin Core 0.14.0 Speeds Up Blockchain Synci...</td>\n",
       "      <td>Positive</td>\n",
       "    </tr>\n",
       "    <tr>\n",
       "      <th>2</th>\n",
       "      <td>Thinking of Travelling With Bitcoin? With Thes...</td>\n",
       "      <td>Positive</td>\n",
       "    </tr>\n",
       "    <tr>\n",
       "      <th>3</th>\n",
       "      <td>Investors Carried Out Mental Gymnastics to Jus...</td>\n",
       "      <td>Negative</td>\n",
       "    </tr>\n",
       "    <tr>\n",
       "      <th>4</th>\n",
       "      <td>Bitcoin Price Holds Above $8,500 as Market Fig...</td>\n",
       "      <td>Positive</td>\n",
       "    </tr>\n",
       "  </tbody>\n",
       "</table>\n",
       "</div>"
      ],
      "text/plain": [
       "                                               title sentiment\n",
       "0  Bitcoin Market Has Run Out of Juice: Cryptocur...  Negative\n",
       "1  Bitcoin Core 0.14.0 Speeds Up Blockchain Synci...  Positive\n",
       "2  Thinking of Travelling With Bitcoin? With Thes...  Positive\n",
       "3  Investors Carried Out Mental Gymnastics to Jus...  Negative\n",
       "4  Bitcoin Price Holds Above $8,500 as Market Fig...  Positive"
      ]
     },
     "execution_count": 4,
     "metadata": {},
     "output_type": "execute_result"
    }
   ],
   "source": [
    "dataset.head()"
   ]
  },
  {
   "cell_type": "code",
   "execution_count": 5,
   "id": "c7518e1f",
   "metadata": {},
   "outputs": [],
   "source": [
    "le = LabelEncoder()\n",
    "\n",
    "dataset[\"label\"] = le.fit_transform(dataset[\"sentiment\"])"
   ]
  },
  {
   "cell_type": "markdown",
   "id": "35bceadc",
   "metadata": {},
   "source": [
    "### Config"
   ]
  },
  {
   "cell_type": "code",
   "execution_count": 6,
   "id": "2abc6728",
   "metadata": {},
   "outputs": [],
   "source": [
    "def build_object(\n",
    "    object_cfg: Dict[str, Any], \n",
    "    is_hugging_face: bool = False, \n",
    "    **kwargs: Dict[str, Any]\n",
    ") -> Callable:\n",
    "    if \"class\" not in object_cfg.keys():\n",
    "        raise ValueError(\"class key schould be in config\")\n",
    "\n",
    "    if \"params\" in object_cfg.keys():\n",
    "        params = object_cfg[\"params\"]\n",
    "\n",
    "        for key, val in params.items():\n",
    "            kwargs[key] = val\n",
    "    else:\n",
    "        params = {}\n",
    "    \n",
    "    if is_hugging_face:\n",
    "        return get_instance(object_cfg[\"class\"]).from_pretrained(**kwargs)\n",
    "    \n",
    "    return get_instance(object_cfg[\"class\"])(**kwargs)\n",
    "\n",
    "\n",
    "def get_instance(object_path: str) -> Callable:\n",
    "\n",
    "    module_path, class_name = object_path.rsplit(\".\", 1)\n",
    "    module = import_module(module_path)\n",
    "\n",
    "    return getattr(module, class_name)"
   ]
  },
  {
   "cell_type": "code",
   "execution_count": 7,
   "id": "bda47000",
   "metadata": {},
   "outputs": [],
   "source": [
    "pl_cfg_str = \"\"\"\n",
    "epochs: 3\n",
    "train_batch_size: 32\n",
    "val_batch_size: 64\n",
    "seed: 42\n",
    "\n",
    "model_name: &model_name distilbert-base-uncased\n",
    "\n",
    "tokenizer:\n",
    "    class: transformers.DistilBertTokenizerFast\n",
    "    params:\n",
    "        pretrained_model_name_or_path: *model_name\n",
    "\n",
    "model:\n",
    "    class: transformers.DistilBertForSequenceClassification\n",
    "    params:\n",
    "        pretrained_model_name_or_path: *model_name\n",
    "        num_labels: 3\n",
    "\n",
    "optimizer:\n",
    "    class: transformers.AdamW\n",
    "    params:\n",
    "        lr: 0.00005\n",
    "        weight_decay: 0.001\n",
    "\n",
    "scheduler:\n",
    "    params:\n",
    "        name: linear\n",
    "        num_warmup_steps: 500\n",
    "\"\"\"\n",
    "\n",
    "huggingface_cfg_str = \"\"\"\n",
    "training_args:\n",
    "    class: transformers.TrainingArguments\n",
    "    params:\n",
    "        output_dir: './test_trainer'\n",
    "        num_train_epochs: 3\n",
    "        per_device_train_batch_size: 32\n",
    "        per_device_eval_batch_size: 64\n",
    "        warmup_steps: 500                                                                                                                                                                                                                                                                                                                                                                                                                                                                                                   \n",
    "        weight_decay: 0.001\n",
    "        logging_steps: 10\n",
    "        evaluation_strategy: epoch\n",
    "\n",
    "\n",
    "model_name: &model_name distilbert-base-uncased\n",
    "\n",
    "tokenizer:\n",
    "    class: transformers.DistilBertTokenizerFast\n",
    "    params:\n",
    "        pretrained_model_name_or_path: *model_name\n",
    "\n",
    "model:\n",
    "    class: transformers.DistilBertForSequenceClassification\n",
    "    params:\n",
    "        pretrained_model_name_or_path: *model_name\n",
    "        num_labels: 3\n",
    "\"\"\""
   ]
  },
  {
   "cell_type": "code",
   "execution_count": 8,
   "id": "0b9edc84",
   "metadata": {},
   "outputs": [],
   "source": [
    "pl_cfg = yaml.safe_load(pl_cfg_str)\n",
    "huggingface_cfg = yaml.safe_load(huggingface_cfg_str)"
   ]
  },
  {
   "cell_type": "markdown",
   "id": "e6c9eba2",
   "metadata": {},
   "source": [
    "### Preprocess/split"
   ]
  },
  {
   "cell_type": "code",
   "execution_count": 9,
   "id": "daefb757",
   "metadata": {},
   "outputs": [],
   "source": [
    "class FinNewsDataset(Dataset):\n",
    "    def __init__(self, encodings: Dict[str, Any], labels: list):\n",
    "        self.encodings = encodings\n",
    "        self.labels = labels\n",
    "    \n",
    "    def __getitem__(self, idx: int) -> Dict[str, Any]:\n",
    "        item = {key: torch.tensor(val[idx]) for key, val in self.encodings.items()}\n",
    "        item['labels'] = torch.tensor(self.labels[idx])\n",
    "        \n",
    "        return item\n",
    "    \n",
    "    def __len__(self) -> int:\n",
    "        return len(self.labels)"
   ]
  },
  {
   "cell_type": "code",
   "execution_count": 10,
   "id": "a85c7025",
   "metadata": {},
   "outputs": [],
   "source": [
    "def prepare_dataset(cfg: Dict[str, Any], data: list, labels: list) -> Dataset:\n",
    "    \n",
    "    tokenizer = build_object(cfg[\"tokenizer\"], is_hugging_face=True)\n",
    "    \n",
    "    encodings = tokenizer(data, truncation=True, padding=True)\n",
    "    \n",
    "    return FinNewsDataset(encodings, labels)"
   ]
  },
  {
   "cell_type": "code",
   "execution_count": 11,
   "id": "1a0d31c9",
   "metadata": {},
   "outputs": [],
   "source": [
    "def split_train_val(dataset: pd.DataFrame, test_size: float = 0.2) -> Tuple[list, ...]:\n",
    "    train_data, val_data, train_labels, val_labels = train_test_split(\n",
    "        dataset[\"title\"].values, \n",
    "        dataset[\"label\"].values,\n",
    "        test_size=test_size\n",
    "    )\n",
    "    \n",
    "    return train_data.tolist(), val_data.tolist(), train_labels.tolist(), val_labels.tolist()"
   ]
  },
  {
   "cell_type": "code",
   "execution_count": 12,
   "id": "cace9d6d",
   "metadata": {},
   "outputs": [],
   "source": [
    "train_data, val_data, train_labels, val_labels = split_train_val(dataset)"
   ]
  },
  {
   "cell_type": "markdown",
   "id": "8e50a37f",
   "metadata": {},
   "source": [
    "## Train pipeline"
   ]
  },
  {
   "cell_type": "markdown",
   "id": "45bd81d8",
   "metadata": {},
   "source": [
    "### Hugging Face api"
   ]
  },
  {
   "cell_type": "code",
   "execution_count": 13,
   "id": "6e3ecc7d",
   "metadata": {},
   "outputs": [],
   "source": [
    "def train_huggin_face_pipeline( \n",
    "    cfg,\n",
    "    train_dataset: Dataset, \n",
    "    val_dataset: Dataset\n",
    "):\n",
    "    \n",
    "    model = build_object(cfg[\"model\"], is_hugging_face=True)\n",
    "    \n",
    "    training_args = build_object(cfg[\"training_args\"])\n",
    "    \n",
    "    metric = load_metric(\"accuracy\")\n",
    "    \n",
    "    def compute_metrics(eval_pred: tuple) -> dict:\n",
    "    \n",
    "        logits, labels = eval_pred\n",
    "        predictions = np.argmax(logits, axis=-1)\n",
    "\n",
    "        return metric.compute(predictions=predictions, references=labels)\n",
    "    \n",
    "    trainer = Trainer(\n",
    "        model=model,\n",
    "        args=training_args,\n",
    "        train_dataset=train_dataset,\n",
    "        eval_dataset=val_dataset,\n",
    "        compute_metrics=compute_metrics\n",
    "    )\n",
    "    \n",
    "    trainer.train()"
   ]
  },
  {
   "cell_type": "code",
   "execution_count": 14,
   "id": "5e637c3d",
   "metadata": {},
   "outputs": [],
   "source": [
    "hg_train_dataset = prepare_dataset(huggingface_cfg, train_data, train_labels)\n",
    "hg_val_dataset = prepare_dataset(huggingface_cfg, val_data, val_labels)"
   ]
  },
  {
   "cell_type": "code",
   "execution_count": 15,
   "id": "2e6c943f",
   "metadata": {},
   "outputs": [
    {
     "data": {
      "text/html": [
       "\n",
       "    <div>\n",
       "      \n",
       "      <progress value='342' max='342' style='width:300px; height:20px; vertical-align: middle;'></progress>\n",
       "      [342/342 00:27, Epoch 3/3]\n",
       "    </div>\n",
       "    <table border=\"1\" class=\"dataframe\">\n",
       "  <thead>\n",
       " <tr style=\"text-align: left;\">\n",
       "      <th>Epoch</th>\n",
       "      <th>Training Loss</th>\n",
       "      <th>Validation Loss</th>\n",
       "      <th>Accuracy</th>\n",
       "    </tr>\n",
       "  </thead>\n",
       "  <tbody>\n",
       "    <tr>\n",
       "      <td>1</td>\n",
       "      <td>0.843900</td>\n",
       "      <td>0.750641</td>\n",
       "      <td>0.720088</td>\n",
       "    </tr>\n",
       "    <tr>\n",
       "      <td>2</td>\n",
       "      <td>0.570300</td>\n",
       "      <td>0.533776</td>\n",
       "      <td>0.795829</td>\n",
       "    </tr>\n",
       "    <tr>\n",
       "      <td>3</td>\n",
       "      <td>0.440700</td>\n",
       "      <td>0.527450</td>\n",
       "      <td>0.812294</td>\n",
       "    </tr>\n",
       "  </tbody>\n",
       "</table><p>"
      ],
      "text/plain": [
       "<IPython.core.display.HTML object>"
      ]
     },
     "metadata": {},
     "output_type": "display_data"
    }
   ],
   "source": [
    "train_huggin_face_pipeline(huggingface_cfg, hg_train_dataset, hg_val_dataset)"
   ]
  },
  {
   "cell_type": "markdown",
   "id": "9491504c",
   "metadata": {},
   "source": [
    "### Pytorch-Lightning api"
   ]
  },
  {
   "cell_type": "code",
   "execution_count": 16,
   "id": "e1a2b30e",
   "metadata": {},
   "outputs": [],
   "source": [
    "class SentimentPipeline(pl.LightningModule):\n",
    "    \"\"\"Class for training text classification models\"\"\"\n",
    "\n",
    "    def __init__(self, cfg: Dict[str, Any], num_training_steps: int):\n",
    "        super().__init__()\n",
    "        \n",
    "        self.cfg = cfg\n",
    "        self.model = build_object(cfg[\"model\"], is_hugging_face=True)\n",
    "        self.metric = load_metric(\"accuracy\")\n",
    "        self.num_training_steps = num_training_steps\n",
    "        \n",
    "        self.metrics = []\n",
    "\n",
    "    def configure_optimizers(self):\n",
    "        optimizer = build_object(self.cfg[\"optimizer\"], params=self.model.parameters())\n",
    "\n",
    "        lr_scheduler = get_scheduler(\n",
    "            optimizer=optimizer,\n",
    "            num_training_steps=self.num_training_steps,\n",
    "            **self.cfg[\"scheduler\"][\"params\"]\n",
    "        )\n",
    "\n",
    "        scheduler = {\n",
    "            \"scheduler\": lr_scheduler,\n",
    "            \"interval\": \"step\",\n",
    "            \"frequency\": 1,\n",
    "        }\n",
    "\n",
    "        return {\"optimizer\": optimizer, \"lr_scheduler\": scheduler}\n",
    "    \n",
    "    def forward(self, batch: Dict[str, Tensor]):\n",
    "        return self.model(**batch)\n",
    "\n",
    "    def training_step(self, batch: Dict[str, Tensor], batch_idx: int) -> Tensor:\n",
    "\n",
    "        outputs = self.model(**batch)\n",
    "        \n",
    "        logits = outputs.logits\n",
    "        predictions = torch.argmax(logits, dim=-1)\n",
    "        self.metric.add_batch(predictions=predictions, references=batch[\"labels\"])\n",
    "        \n",
    "        self.log(\n",
    "            \"train_acc\",\n",
    "            self.metric.compute()[\"accuracy\"],\n",
    "            on_step=False,\n",
    "            on_epoch=True,\n",
    "            prog_bar=True,\n",
    "            logger=False,\n",
    "        )\n",
    "        \n",
    "        self.log(\n",
    "            \"train_loss\",\n",
    "            outputs.loss,\n",
    "            on_step=False,\n",
    "            on_epoch=True,\n",
    "            prog_bar=True,\n",
    "            logger=False,\n",
    "        )\n",
    "        \n",
    "        return outputs.loss\n",
    "\n",
    "    def validation_step(self, batch: Dict[str, Tensor], batch_idx: int) -> None:\n",
    "\n",
    "        with torch.no_grad():\n",
    "            outputs = self.model(**batch)\n",
    "\n",
    "        logits = outputs.logits\n",
    "        predictions = torch.argmax(logits, dim=-1)\n",
    "        self.metric.add_batch(predictions=predictions, references=batch[\"labels\"])\n",
    "        \n",
    "        self.log(\n",
    "            \"val_acc\",\n",
    "            self.metric.compute()[\"accuracy\"],\n",
    "            on_step=False,\n",
    "            on_epoch=True,\n",
    "            prog_bar=True,\n",
    "            logger=False,\n",
    "        )\n",
    "        \n",
    "        self.log(\n",
    "            \"val_loss\",\n",
    "            outputs.loss,\n",
    "            on_step=False,\n",
    "            on_epoch=True,\n",
    "            prog_bar=True,\n",
    "            logger=False,\n",
    "        )"
   ]
  },
  {
   "cell_type": "code",
   "execution_count": 17,
   "id": "9ffd952a",
   "metadata": {},
   "outputs": [],
   "source": [
    "class MetricTracker(Callback):\n",
    "\n",
    "    def __init__(self):\n",
    "        self.collection = {\n",
    "            \"train_loss\": [],\n",
    "            \"val_loss\": [],\n",
    "            \"train_acc\": [],\n",
    "            \"val_acc\": []\n",
    "        }\n",
    "    \n",
    "    def _log_metrics(self, trainer, stage: str = \"train\"):\n",
    "        for key in (f\"{stage}_acc\", f\"{stage}_loss\"):\n",
    "            self.collection[key].append(trainer.callback_metrics[key].item())\n",
    "        \n",
    "    def on_validation_epoch_end(self, trainer, module):\n",
    "        self._log_metrics(trainer, \"val\")\n",
    "    \n",
    "    def on_train_epoch_end(self, trainer, module):\n",
    "        self._log_metrics(trainer, \"train\")"
   ]
  },
  {
   "cell_type": "code",
   "execution_count": 18,
   "id": "9f12ec9a",
   "metadata": {},
   "outputs": [],
   "source": [
    "def train_pl_model(\n",
    "    cfg: Dict[str, Any], \n",
    "    train_dataloader: DataLoader, \n",
    "    val_dataloader: DataLoader, \n",
    "    return_predictions: bool = False\n",
    ") -> Union[Dict[str, Any], Tuple[Dict[str, Any], np.ndarray]]:\n",
    "    \n",
    "    seed_everything(cfg[\"seed\"])\n",
    "    \n",
    "    num_training_steps = cfg[\"epochs\"] * len(train_dataloader)\n",
    "    \n",
    "    pipeline = SentimentPipeline(cfg, num_training_steps)\n",
    "    \n",
    "    metric_tracker = MetricTracker()\n",
    "        \n",
    "    trainer = Pl_trainer(\n",
    "        max_epochs=cfg[\"epochs\"],\n",
    "        gpus=1,\n",
    "        callbacks=[metric_tracker],\n",
    "        num_sanity_val_steps=0\n",
    "    )\n",
    "\n",
    "    trainer.fit(\n",
    "        pipeline, \n",
    "        train_dataloaders=train_dataloader, \n",
    "        val_dataloaders=val_dataloader\n",
    "    )\n",
    "    \n",
    "    if return_predictions:\n",
    "        outputs = trainer.predict(pipeline, val_dataloader)\n",
    "        \n",
    "        logits = torch.cat([p.logits for p in outputs])\n",
    "        \n",
    "        pred_labels = torch.argmax(logits, dim=-1).numpy()\n",
    "        \n",
    "        return metric_tracker.collection, pred_labels\n",
    "    \n",
    "    return metric_tracker.collection"
   ]
  },
  {
   "cell_type": "code",
   "execution_count": 19,
   "id": "3a302ed1",
   "metadata": {},
   "outputs": [],
   "source": [
    "pl_train_dataset = prepare_dataset(pl_cfg, train_data, train_labels)\n",
    "pl_val_dataset = prepare_dataset(pl_cfg, val_data, val_labels)"
   ]
  },
  {
   "cell_type": "code",
   "execution_count": 20,
   "id": "058f870d",
   "metadata": {},
   "outputs": [],
   "source": [
    "train_dataloader = DataLoader(pl_train_dataset, batch_size=pl_cfg[\"train_batch_size\"], shuffle=True)\n",
    "val_dataloader = DataLoader(pl_val_dataset, batch_size=pl_cfg[\"val_batch_size\"], shuffle=False)"
   ]
  },
  {
   "cell_type": "code",
   "execution_count": 21,
   "id": "0fe2acaa",
   "metadata": {},
   "outputs": [
    {
     "data": {
      "application/vnd.jupyter.widget-view+json": {
       "model_id": "1120e404ced2433eb45a1f33f56f07a7",
       "version_major": 2,
       "version_minor": 0
      },
      "text/plain": [
       "Training: 0it [00:00, ?it/s]"
      ]
     },
     "metadata": {},
     "output_type": "display_data"
    },
    {
     "data": {
      "application/vnd.jupyter.widget-view+json": {
       "model_id": "",
       "version_major": 2,
       "version_minor": 0
      },
      "text/plain": [
       "Validation: 0it [00:00, ?it/s]"
      ]
     },
     "metadata": {},
     "output_type": "display_data"
    },
    {
     "data": {
      "application/vnd.jupyter.widget-view+json": {
       "model_id": "",
       "version_major": 2,
       "version_minor": 0
      },
      "text/plain": [
       "Validation: 0it [00:00, ?it/s]"
      ]
     },
     "metadata": {},
     "output_type": "display_data"
    },
    {
     "data": {
      "application/vnd.jupyter.widget-view+json": {
       "model_id": "",
       "version_major": 2,
       "version_minor": 0
      },
      "text/plain": [
       "Validation: 0it [00:00, ?it/s]"
      ]
     },
     "metadata": {},
     "output_type": "display_data"
    },
    {
     "data": {
      "application/vnd.jupyter.widget-view+json": {
       "model_id": "07a1c2ee722240409386958af324e076",
       "version_major": 2,
       "version_minor": 0
      },
      "text/plain": [
       "Predicting: 114it [00:00, ?it/s]"
      ]
     },
     "metadata": {},
     "output_type": "display_data"
    }
   ],
   "source": [
    "scores, predictions = train_pl_model(pl_cfg, train_dataloader, val_dataloader, return_predictions=True)"
   ]
  },
  {
   "cell_type": "code",
   "execution_count": 22,
   "id": "ceea4b16",
   "metadata": {},
   "outputs": [
    {
     "data": {
      "text/plain": [
       "{'train_loss': [1.0060083866119385, 0.5831866264343262, 0.4126529395580292],\n",
       " 'val_loss': [0.7026982307434082, 0.5356720089912415, 0.5613539814949036],\n",
       " 'train_acc': [0.48256930708885193, 0.7757343053817749, 0.8484765291213989],\n",
       " 'val_acc': [0.7475301623344421, 0.7991218566894531, 0.8002195358276367]}"
      ]
     },
     "execution_count": 22,
     "metadata": {},
     "output_type": "execute_result"
    }
   ],
   "source": [
    "scores"
   ]
  },
  {
   "cell_type": "code",
   "execution_count": 23,
   "id": "5475607b",
   "metadata": {},
   "outputs": [
    {
     "name": "stdout",
     "output_type": "stream",
     "text": [
      "              precision    recall  f1-score   support\n",
      "\n",
      "    Negative       0.79      0.90      0.84       307\n",
      "     Neutral       0.75      0.49      0.59       172\n",
      "    Positive       0.82      0.85      0.84       432\n",
      "\n",
      "    accuracy                           0.80       911\n",
      "   macro avg       0.79      0.75      0.76       911\n",
      "weighted avg       0.80      0.80      0.79       911\n",
      "\n"
     ]
    }
   ],
   "source": [
    "print(classification_report(pl_val_dataset.labels, predictions, target_names=le.classes_))"
   ]
  },
  {
   "cell_type": "markdown",
   "id": "a1d2892f",
   "metadata": {},
   "source": [
    "### Cross-validation"
   ]
  },
  {
   "cell_type": "code",
   "execution_count": 24,
   "id": "e7ab9d10",
   "metadata": {},
   "outputs": [],
   "source": [
    "def cross_val(\n",
    "    cfg: Dict[str, Any], \n",
    "    dataset: pd.DataFrame, \n",
    "    n_splits: int = 3, \n",
    "    shuffle: bool = True\n",
    ") -> List[float]:\n",
    "    \n",
    "    skf = StratifiedKFold(n_splits=n_splits, shuffle=shuffle, random_state=17)\n",
    "    \n",
    "    data = dataset[\"title\"].values\n",
    "    labels = dataset[\"label\"].values\n",
    "    \n",
    "    cv_accuracy = []\n",
    "        \n",
    "    for train_index, test_index in skf.split(data, labels):\n",
    "        \n",
    "        train_data, val_data = data[train_index], data[test_index]\n",
    "        train_labels, val_labels = labels[train_index], labels[test_index]\n",
    "        \n",
    "        train_dataset = prepare_dataset(cfg, train_data.tolist(), train_labels.tolist())\n",
    "        val_dataset = prepare_dataset(cfg, val_data.tolist(), val_labels.tolist())\n",
    "        \n",
    "        train_dataloader = DataLoader(train_dataset, batch_size=cfg[\"train_batch_size\"], shuffle=True)\n",
    "        val_dataloader = DataLoader(val_dataset, batch_size=cfg[\"val_batch_size\"], shuffle=False)\n",
    "        \n",
    "        scores = train_pl_model(cfg, train_dataloader, val_dataloader)\n",
    "        \n",
    "        cv_accuracy.append(scores[\"val_acc\"][-1])\n",
    "    \n",
    "        torch.cuda.empty_cache()\n",
    "    \n",
    "    return cv_accuracy"
   ]
  },
  {
   "cell_type": "code",
   "execution_count": 25,
   "id": "a66e9ab1",
   "metadata": {
    "scrolled": true
   },
   "outputs": [
    {
     "data": {
      "application/vnd.jupyter.widget-view+json": {
       "model_id": "f975f2be112c4d56aa10913a76ef215f",
       "version_major": 2,
       "version_minor": 0
      },
      "text/plain": [
       "Training: 0it [00:00, ?it/s]"
      ]
     },
     "metadata": {},
     "output_type": "display_data"
    },
    {
     "data": {
      "application/vnd.jupyter.widget-view+json": {
       "model_id": "",
       "version_major": 2,
       "version_minor": 0
      },
      "text/plain": [
       "Validation: 0it [00:00, ?it/s]"
      ]
     },
     "metadata": {},
     "output_type": "display_data"
    },
    {
     "data": {
      "application/vnd.jupyter.widget-view+json": {
       "model_id": "",
       "version_major": 2,
       "version_minor": 0
      },
      "text/plain": [
       "Validation: 0it [00:00, ?it/s]"
      ]
     },
     "metadata": {},
     "output_type": "display_data"
    },
    {
     "data": {
      "application/vnd.jupyter.widget-view+json": {
       "model_id": "",
       "version_major": 2,
       "version_minor": 0
      },
      "text/plain": [
       "Validation: 0it [00:00, ?it/s]"
      ]
     },
     "metadata": {},
     "output_type": "display_data"
    },
    {
     "data": {
      "application/vnd.jupyter.widget-view+json": {
       "model_id": "e196b2bfaba0473794f06d27a4b0cd33",
       "version_major": 2,
       "version_minor": 0
      },
      "text/plain": [
       "Training: 0it [00:00, ?it/s]"
      ]
     },
     "metadata": {},
     "output_type": "display_data"
    },
    {
     "data": {
      "application/vnd.jupyter.widget-view+json": {
       "model_id": "",
       "version_major": 2,
       "version_minor": 0
      },
      "text/plain": [
       "Validation: 0it [00:00, ?it/s]"
      ]
     },
     "metadata": {},
     "output_type": "display_data"
    },
    {
     "data": {
      "application/vnd.jupyter.widget-view+json": {
       "model_id": "",
       "version_major": 2,
       "version_minor": 0
      },
      "text/plain": [
       "Validation: 0it [00:00, ?it/s]"
      ]
     },
     "metadata": {},
     "output_type": "display_data"
    },
    {
     "data": {
      "application/vnd.jupyter.widget-view+json": {
       "model_id": "",
       "version_major": 2,
       "version_minor": 0
      },
      "text/plain": [
       "Validation: 0it [00:00, ?it/s]"
      ]
     },
     "metadata": {},
     "output_type": "display_data"
    },
    {
     "data": {
      "application/vnd.jupyter.widget-view+json": {
       "model_id": "942477a3474440c385adbddf0be807f1",
       "version_major": 2,
       "version_minor": 0
      },
      "text/plain": [
       "Training: 0it [00:00, ?it/s]"
      ]
     },
     "metadata": {},
     "output_type": "display_data"
    },
    {
     "data": {
      "application/vnd.jupyter.widget-view+json": {
       "model_id": "",
       "version_major": 2,
       "version_minor": 0
      },
      "text/plain": [
       "Validation: 0it [00:00, ?it/s]"
      ]
     },
     "metadata": {},
     "output_type": "display_data"
    },
    {
     "data": {
      "application/vnd.jupyter.widget-view+json": {
       "model_id": "",
       "version_major": 2,
       "version_minor": 0
      },
      "text/plain": [
       "Validation: 0it [00:00, ?it/s]"
      ]
     },
     "metadata": {},
     "output_type": "display_data"
    },
    {
     "data": {
      "application/vnd.jupyter.widget-view+json": {
       "model_id": "",
       "version_major": 2,
       "version_minor": 0
      },
      "text/plain": [
       "Validation: 0it [00:00, ?it/s]"
      ]
     },
     "metadata": {},
     "output_type": "display_data"
    }
   ],
   "source": [
    "cv_accuracy = cross_val(pl_cfg, dataset)"
   ]
  },
  {
   "cell_type": "code",
   "execution_count": 26,
   "id": "e343f8a5",
   "metadata": {},
   "outputs": [
    {
     "data": {
      "text/plain": [
       "(0.7944664160410563, 0.005692356364049278)"
      ]
     },
     "execution_count": 26,
     "metadata": {},
     "output_type": "execute_result"
    }
   ],
   "source": [
    "np.mean(cv_accuracy), np.std(cv_accuracy)"
   ]
  },
  {
   "cell_type": "markdown",
   "id": "ed3c970e",
   "metadata": {},
   "source": [
    "## Val Learning Curve"
   ]
  },
  {
   "cell_type": "code",
   "execution_count": 27,
   "id": "2982fc54",
   "metadata": {},
   "outputs": [],
   "source": [
    "def learning_curve(cfg: Dict[str, Any], dataset: pd.DataFrame, train_fracs: np.ndarray):\n",
    "    \n",
    "    train_sizes: List[int] = []\n",
    "    val_scores: List[List[float]] = []\n",
    "    \n",
    "    num_points: int = len(train_fracs)\n",
    "    \n",
    "    for i in range(num_points):\n",
    "        \n",
    "        num_samples = int(len(dataset)*train_fracs[i])\n",
    "        \n",
    "        train_data = dataset[:num_samples]\n",
    "        \n",
    "        cv_score = cross_val(cfg, train_data)\n",
    "        \n",
    "        val_scores.append(cv_score)\n",
    "        train_sizes.append(num_samples)\n",
    "    \n",
    "    return train_sizes, val_scores"
   ]
  },
  {
   "cell_type": "code",
   "execution_count": 28,
   "id": "26e324a8",
   "metadata": {
    "scrolled": true
   },
   "outputs": [
    {
     "data": {
      "application/vnd.jupyter.widget-view+json": {
       "model_id": "c2f6d9a0febf4f2ba1feceafab1ced58",
       "version_major": 2,
       "version_minor": 0
      },
      "text/plain": [
       "Training: 0it [00:00, ?it/s]"
      ]
     },
     "metadata": {},
     "output_type": "display_data"
    },
    {
     "data": {
      "application/vnd.jupyter.widget-view+json": {
       "model_id": "",
       "version_major": 2,
       "version_minor": 0
      },
      "text/plain": [
       "Validation: 0it [00:00, ?it/s]"
      ]
     },
     "metadata": {},
     "output_type": "display_data"
    },
    {
     "data": {
      "application/vnd.jupyter.widget-view+json": {
       "model_id": "",
       "version_major": 2,
       "version_minor": 0
      },
      "text/plain": [
       "Validation: 0it [00:00, ?it/s]"
      ]
     },
     "metadata": {},
     "output_type": "display_data"
    },
    {
     "data": {
      "application/vnd.jupyter.widget-view+json": {
       "model_id": "",
       "version_major": 2,
       "version_minor": 0
      },
      "text/plain": [
       "Validation: 0it [00:00, ?it/s]"
      ]
     },
     "metadata": {},
     "output_type": "display_data"
    },
    {
     "data": {
      "application/vnd.jupyter.widget-view+json": {
       "model_id": "dbf7dfb4155749b980ff01b9cf87aaeb",
       "version_major": 2,
       "version_minor": 0
      },
      "text/plain": [
       "Training: 0it [00:00, ?it/s]"
      ]
     },
     "metadata": {},
     "output_type": "display_data"
    },
    {
     "data": {
      "application/vnd.jupyter.widget-view+json": {
       "model_id": "",
       "version_major": 2,
       "version_minor": 0
      },
      "text/plain": [
       "Validation: 0it [00:00, ?it/s]"
      ]
     },
     "metadata": {},
     "output_type": "display_data"
    },
    {
     "data": {
      "application/vnd.jupyter.widget-view+json": {
       "model_id": "",
       "version_major": 2,
       "version_minor": 0
      },
      "text/plain": [
       "Validation: 0it [00:00, ?it/s]"
      ]
     },
     "metadata": {},
     "output_type": "display_data"
    },
    {
     "data": {
      "application/vnd.jupyter.widget-view+json": {
       "model_id": "",
       "version_major": 2,
       "version_minor": 0
      },
      "text/plain": [
       "Validation: 0it [00:00, ?it/s]"
      ]
     },
     "metadata": {},
     "output_type": "display_data"
    },
    {
     "data": {
      "application/vnd.jupyter.widget-view+json": {
       "model_id": "6a5c337b91644b7dad63d9bbf00fb6de",
       "version_major": 2,
       "version_minor": 0
      },
      "text/plain": [
       "Training: 0it [00:00, ?it/s]"
      ]
     },
     "metadata": {},
     "output_type": "display_data"
    },
    {
     "data": {
      "application/vnd.jupyter.widget-view+json": {
       "model_id": "",
       "version_major": 2,
       "version_minor": 0
      },
      "text/plain": [
       "Validation: 0it [00:00, ?it/s]"
      ]
     },
     "metadata": {},
     "output_type": "display_data"
    },
    {
     "data": {
      "application/vnd.jupyter.widget-view+json": {
       "model_id": "",
       "version_major": 2,
       "version_minor": 0
      },
      "text/plain": [
       "Validation: 0it [00:00, ?it/s]"
      ]
     },
     "metadata": {},
     "output_type": "display_data"
    },
    {
     "data": {
      "application/vnd.jupyter.widget-view+json": {
       "model_id": "",
       "version_major": 2,
       "version_minor": 0
      },
      "text/plain": [
       "Validation: 0it [00:00, ?it/s]"
      ]
     },
     "metadata": {},
     "output_type": "display_data"
    },
    {
     "data": {
      "application/vnd.jupyter.widget-view+json": {
       "model_id": "40dea51dae7f4a27a25386117c5633d6",
       "version_major": 2,
       "version_minor": 0
      },
      "text/plain": [
       "Training: 0it [00:00, ?it/s]"
      ]
     },
     "metadata": {},
     "output_type": "display_data"
    },
    {
     "data": {
      "application/vnd.jupyter.widget-view+json": {
       "model_id": "",
       "version_major": 2,
       "version_minor": 0
      },
      "text/plain": [
       "Validation: 0it [00:00, ?it/s]"
      ]
     },
     "metadata": {},
     "output_type": "display_data"
    },
    {
     "data": {
      "application/vnd.jupyter.widget-view+json": {
       "model_id": "",
       "version_major": 2,
       "version_minor": 0
      },
      "text/plain": [
       "Validation: 0it [00:00, ?it/s]"
      ]
     },
     "metadata": {},
     "output_type": "display_data"
    },
    {
     "data": {
      "application/vnd.jupyter.widget-view+json": {
       "model_id": "",
       "version_major": 2,
       "version_minor": 0
      },
      "text/plain": [
       "Validation: 0it [00:00, ?it/s]"
      ]
     },
     "metadata": {},
     "output_type": "display_data"
    },
    {
     "data": {
      "application/vnd.jupyter.widget-view+json": {
       "model_id": "231e403071ee44249c41560b9be6ebef",
       "version_major": 2,
       "version_minor": 0
      },
      "text/plain": [
       "Training: 0it [00:00, ?it/s]"
      ]
     },
     "metadata": {},
     "output_type": "display_data"
    },
    {
     "data": {
      "application/vnd.jupyter.widget-view+json": {
       "model_id": "",
       "version_major": 2,
       "version_minor": 0
      },
      "text/plain": [
       "Validation: 0it [00:00, ?it/s]"
      ]
     },
     "metadata": {},
     "output_type": "display_data"
    },
    {
     "data": {
      "application/vnd.jupyter.widget-view+json": {
       "model_id": "",
       "version_major": 2,
       "version_minor": 0
      },
      "text/plain": [
       "Validation: 0it [00:00, ?it/s]"
      ]
     },
     "metadata": {},
     "output_type": "display_data"
    },
    {
     "data": {
      "application/vnd.jupyter.widget-view+json": {
       "model_id": "",
       "version_major": 2,
       "version_minor": 0
      },
      "text/plain": [
       "Validation: 0it [00:00, ?it/s]"
      ]
     },
     "metadata": {},
     "output_type": "display_data"
    },
    {
     "data": {
      "application/vnd.jupyter.widget-view+json": {
       "model_id": "9c3a5b8c34eb4641971e91bb0ea4b3d0",
       "version_major": 2,
       "version_minor": 0
      },
      "text/plain": [
       "Training: 0it [00:00, ?it/s]"
      ]
     },
     "metadata": {},
     "output_type": "display_data"
    },
    {
     "data": {
      "application/vnd.jupyter.widget-view+json": {
       "model_id": "",
       "version_major": 2,
       "version_minor": 0
      },
      "text/plain": [
       "Validation: 0it [00:00, ?it/s]"
      ]
     },
     "metadata": {},
     "output_type": "display_data"
    },
    {
     "data": {
      "application/vnd.jupyter.widget-view+json": {
       "model_id": "",
       "version_major": 2,
       "version_minor": 0
      },
      "text/plain": [
       "Validation: 0it [00:00, ?it/s]"
      ]
     },
     "metadata": {},
     "output_type": "display_data"
    },
    {
     "data": {
      "application/vnd.jupyter.widget-view+json": {
       "model_id": "",
       "version_major": 2,
       "version_minor": 0
      },
      "text/plain": [
       "Validation: 0it [00:00, ?it/s]"
      ]
     },
     "metadata": {},
     "output_type": "display_data"
    },
    {
     "data": {
      "application/vnd.jupyter.widget-view+json": {
       "model_id": "a5c1ea8b9ad247a48abd824a514c8511",
       "version_major": 2,
       "version_minor": 0
      },
      "text/plain": [
       "Training: 0it [00:00, ?it/s]"
      ]
     },
     "metadata": {},
     "output_type": "display_data"
    },
    {
     "data": {
      "application/vnd.jupyter.widget-view+json": {
       "model_id": "",
       "version_major": 2,
       "version_minor": 0
      },
      "text/plain": [
       "Validation: 0it [00:00, ?it/s]"
      ]
     },
     "metadata": {},
     "output_type": "display_data"
    },
    {
     "data": {
      "application/vnd.jupyter.widget-view+json": {
       "model_id": "",
       "version_major": 2,
       "version_minor": 0
      },
      "text/plain": [
       "Validation: 0it [00:00, ?it/s]"
      ]
     },
     "metadata": {},
     "output_type": "display_data"
    },
    {
     "data": {
      "application/vnd.jupyter.widget-view+json": {
       "model_id": "",
       "version_major": 2,
       "version_minor": 0
      },
      "text/plain": [
       "Validation: 0it [00:00, ?it/s]"
      ]
     },
     "metadata": {},
     "output_type": "display_data"
    },
    {
     "data": {
      "application/vnd.jupyter.widget-view+json": {
       "model_id": "2eaaf9218796477a91f8fa91437abfde",
       "version_major": 2,
       "version_minor": 0
      },
      "text/plain": [
       "Training: 0it [00:00, ?it/s]"
      ]
     },
     "metadata": {},
     "output_type": "display_data"
    },
    {
     "data": {
      "application/vnd.jupyter.widget-view+json": {
       "model_id": "",
       "version_major": 2,
       "version_minor": 0
      },
      "text/plain": [
       "Validation: 0it [00:00, ?it/s]"
      ]
     },
     "metadata": {},
     "output_type": "display_data"
    },
    {
     "data": {
      "application/vnd.jupyter.widget-view+json": {
       "model_id": "",
       "version_major": 2,
       "version_minor": 0
      },
      "text/plain": [
       "Validation: 0it [00:00, ?it/s]"
      ]
     },
     "metadata": {},
     "output_type": "display_data"
    },
    {
     "data": {
      "application/vnd.jupyter.widget-view+json": {
       "model_id": "",
       "version_major": 2,
       "version_minor": 0
      },
      "text/plain": [
       "Validation: 0it [00:00, ?it/s]"
      ]
     },
     "metadata": {},
     "output_type": "display_data"
    },
    {
     "data": {
      "application/vnd.jupyter.widget-view+json": {
       "model_id": "11ff96c04c6647a3b3293cb5800e50f3",
       "version_major": 2,
       "version_minor": 0
      },
      "text/plain": [
       "Training: 0it [00:00, ?it/s]"
      ]
     },
     "metadata": {},
     "output_type": "display_data"
    },
    {
     "data": {
      "application/vnd.jupyter.widget-view+json": {
       "model_id": "",
       "version_major": 2,
       "version_minor": 0
      },
      "text/plain": [
       "Validation: 0it [00:00, ?it/s]"
      ]
     },
     "metadata": {},
     "output_type": "display_data"
    },
    {
     "data": {
      "application/vnd.jupyter.widget-view+json": {
       "model_id": "",
       "version_major": 2,
       "version_minor": 0
      },
      "text/plain": [
       "Validation: 0it [00:00, ?it/s]"
      ]
     },
     "metadata": {},
     "output_type": "display_data"
    },
    {
     "data": {
      "application/vnd.jupyter.widget-view+json": {
       "model_id": "",
       "version_major": 2,
       "version_minor": 0
      },
      "text/plain": [
       "Validation: 0it [00:00, ?it/s]"
      ]
     },
     "metadata": {},
     "output_type": "display_data"
    },
    {
     "data": {
      "application/vnd.jupyter.widget-view+json": {
       "model_id": "3298b71f45c04930a345a8ca014a618f",
       "version_major": 2,
       "version_minor": 0
      },
      "text/plain": [
       "Training: 0it [00:00, ?it/s]"
      ]
     },
     "metadata": {},
     "output_type": "display_data"
    },
    {
     "data": {
      "application/vnd.jupyter.widget-view+json": {
       "model_id": "",
       "version_major": 2,
       "version_minor": 0
      },
      "text/plain": [
       "Validation: 0it [00:00, ?it/s]"
      ]
     },
     "metadata": {},
     "output_type": "display_data"
    },
    {
     "data": {
      "application/vnd.jupyter.widget-view+json": {
       "model_id": "",
       "version_major": 2,
       "version_minor": 0
      },
      "text/plain": [
       "Validation: 0it [00:00, ?it/s]"
      ]
     },
     "metadata": {},
     "output_type": "display_data"
    },
    {
     "data": {
      "application/vnd.jupyter.widget-view+json": {
       "model_id": "",
       "version_major": 2,
       "version_minor": 0
      },
      "text/plain": [
       "Validation: 0it [00:00, ?it/s]"
      ]
     },
     "metadata": {},
     "output_type": "display_data"
    },
    {
     "data": {
      "application/vnd.jupyter.widget-view+json": {
       "model_id": "1e73278b9abc47079bfe9b5438a4e56b",
       "version_major": 2,
       "version_minor": 0
      },
      "text/plain": [
       "Training: 0it [00:00, ?it/s]"
      ]
     },
     "metadata": {},
     "output_type": "display_data"
    },
    {
     "data": {
      "application/vnd.jupyter.widget-view+json": {
       "model_id": "",
       "version_major": 2,
       "version_minor": 0
      },
      "text/plain": [
       "Validation: 0it [00:00, ?it/s]"
      ]
     },
     "metadata": {},
     "output_type": "display_data"
    },
    {
     "data": {
      "application/vnd.jupyter.widget-view+json": {
       "model_id": "",
       "version_major": 2,
       "version_minor": 0
      },
      "text/plain": [
       "Validation: 0it [00:00, ?it/s]"
      ]
     },
     "metadata": {},
     "output_type": "display_data"
    },
    {
     "data": {
      "application/vnd.jupyter.widget-view+json": {
       "model_id": "",
       "version_major": 2,
       "version_minor": 0
      },
      "text/plain": [
       "Validation: 0it [00:00, ?it/s]"
      ]
     },
     "metadata": {},
     "output_type": "display_data"
    },
    {
     "data": {
      "application/vnd.jupyter.widget-view+json": {
       "model_id": "4832cb75d5fa4b7e91de28d181ac2a04",
       "version_major": 2,
       "version_minor": 0
      },
      "text/plain": [
       "Training: 0it [00:00, ?it/s]"
      ]
     },
     "metadata": {},
     "output_type": "display_data"
    },
    {
     "data": {
      "application/vnd.jupyter.widget-view+json": {
       "model_id": "",
       "version_major": 2,
       "version_minor": 0
      },
      "text/plain": [
       "Validation: 0it [00:00, ?it/s]"
      ]
     },
     "metadata": {},
     "output_type": "display_data"
    },
    {
     "data": {
      "application/vnd.jupyter.widget-view+json": {
       "model_id": "",
       "version_major": 2,
       "version_minor": 0
      },
      "text/plain": [
       "Validation: 0it [00:00, ?it/s]"
      ]
     },
     "metadata": {},
     "output_type": "display_data"
    },
    {
     "data": {
      "application/vnd.jupyter.widget-view+json": {
       "model_id": "",
       "version_major": 2,
       "version_minor": 0
      },
      "text/plain": [
       "Validation: 0it [00:00, ?it/s]"
      ]
     },
     "metadata": {},
     "output_type": "display_data"
    },
    {
     "data": {
      "application/vnd.jupyter.widget-view+json": {
       "model_id": "3b677354f69d42f8b3367a5331966b8c",
       "version_major": 2,
       "version_minor": 0
      },
      "text/plain": [
       "Training: 0it [00:00, ?it/s]"
      ]
     },
     "metadata": {},
     "output_type": "display_data"
    },
    {
     "data": {
      "application/vnd.jupyter.widget-view+json": {
       "model_id": "",
       "version_major": 2,
       "version_minor": 0
      },
      "text/plain": [
       "Validation: 0it [00:00, ?it/s]"
      ]
     },
     "metadata": {},
     "output_type": "display_data"
    },
    {
     "data": {
      "application/vnd.jupyter.widget-view+json": {
       "model_id": "",
       "version_major": 2,
       "version_minor": 0
      },
      "text/plain": [
       "Validation: 0it [00:00, ?it/s]"
      ]
     },
     "metadata": {},
     "output_type": "display_data"
    },
    {
     "data": {
      "application/vnd.jupyter.widget-view+json": {
       "model_id": "",
       "version_major": 2,
       "version_minor": 0
      },
      "text/plain": [
       "Validation: 0it [00:00, ?it/s]"
      ]
     },
     "metadata": {},
     "output_type": "display_data"
    },
    {
     "data": {
      "application/vnd.jupyter.widget-view+json": {
       "model_id": "415febe6378b4835943857846996c70a",
       "version_major": 2,
       "version_minor": 0
      },
      "text/plain": [
       "Training: 0it [00:00, ?it/s]"
      ]
     },
     "metadata": {},
     "output_type": "display_data"
    },
    {
     "data": {
      "application/vnd.jupyter.widget-view+json": {
       "model_id": "",
       "version_major": 2,
       "version_minor": 0
      },
      "text/plain": [
       "Validation: 0it [00:00, ?it/s]"
      ]
     },
     "metadata": {},
     "output_type": "display_data"
    },
    {
     "data": {
      "application/vnd.jupyter.widget-view+json": {
       "model_id": "",
       "version_major": 2,
       "version_minor": 0
      },
      "text/plain": [
       "Validation: 0it [00:00, ?it/s]"
      ]
     },
     "metadata": {},
     "output_type": "display_data"
    },
    {
     "data": {
      "application/vnd.jupyter.widget-view+json": {
       "model_id": "",
       "version_major": 2,
       "version_minor": 0
      },
      "text/plain": [
       "Validation: 0it [00:00, ?it/s]"
      ]
     },
     "metadata": {},
     "output_type": "display_data"
    },
    {
     "data": {
      "application/vnd.jupyter.widget-view+json": {
       "model_id": "cf1dd2a887a8429d9fb96108148a9bcc",
       "version_major": 2,
       "version_minor": 0
      },
      "text/plain": [
       "Training: 0it [00:00, ?it/s]"
      ]
     },
     "metadata": {},
     "output_type": "display_data"
    },
    {
     "data": {
      "application/vnd.jupyter.widget-view+json": {
       "model_id": "",
       "version_major": 2,
       "version_minor": 0
      },
      "text/plain": [
       "Validation: 0it [00:00, ?it/s]"
      ]
     },
     "metadata": {},
     "output_type": "display_data"
    },
    {
     "data": {
      "application/vnd.jupyter.widget-view+json": {
       "model_id": "",
       "version_major": 2,
       "version_minor": 0
      },
      "text/plain": [
       "Validation: 0it [00:00, ?it/s]"
      ]
     },
     "metadata": {},
     "output_type": "display_data"
    },
    {
     "data": {
      "application/vnd.jupyter.widget-view+json": {
       "model_id": "",
       "version_major": 2,
       "version_minor": 0
      },
      "text/plain": [
       "Validation: 0it [00:00, ?it/s]"
      ]
     },
     "metadata": {},
     "output_type": "display_data"
    }
   ],
   "source": [
    "train_sizes, val_scores = learning_curve(pl_cfg, dataset, np.linspace(.2, 1, 5))"
   ]
  },
  {
   "cell_type": "code",
   "execution_count": 29,
   "id": "db48f0e6",
   "metadata": {},
   "outputs": [],
   "source": [
    "# helper function\n",
    "\n",
    "def plot_with_err(x, data, **kwargs):\n",
    "    mu, std = data.mean(1), data.std(1)\n",
    "    lines = plt.plot(x, mu, '-', **kwargs)\n",
    "    plt.fill_between(x, mu - std, mu + std, edgecolor='none',\n",
    "                     facecolor=lines[0].get_color(), alpha=0.2)"
   ]
  },
  {
   "cell_type": "code",
   "execution_count": 30,
   "id": "c02c9e2d",
   "metadata": {},
   "outputs": [
    {
     "data": {
      "text/plain": [
       "array([0.46483629, 0.69686987, 0.76244235, 0.78588913, 0.79446642])"
      ]
     },
     "execution_count": 30,
     "metadata": {},
     "output_type": "execute_result"
    }
   ],
   "source": [
    "np.array(val_scores).mean(1)"
   ]
  },
  {
   "cell_type": "code",
   "execution_count": 31,
   "id": "e8a7794a",
   "metadata": {},
   "outputs": [
    {
     "data": {
      "text/plain": [
       "Text(0.5, 1.0, '4500 titles. distilbert-base-uncased learning curves')"
      ]
     },
     "execution_count": 31,
     "metadata": {},
     "output_type": "execute_result"
    },
    {
     "data": {
      "image/png": "[encoded data removed]",
      "text/plain": [
       "<Figure size 432x288 with 1 Axes>"
      ]
     },
     "metadata": {
      "needs_background": "light"
     },
     "output_type": "display_data"
    }
   ],
   "source": [
    "plot_with_err(train_sizes, np.array(val_scores), label='validation scores')\n",
    "plt.xlabel('train size')\n",
    "plt.ylabel('3-fold CV accuracy (mean +/- std)')\n",
    "plt.legend()\n",
    "plt.grid(True);\n",
    "plt.ylim(.5, 1)\n",
    "plt.title(f\"4500 titles. {pl_cfg['model_name']} learning curves\")"
   ]
  },
  {
   "cell_type": "code",
   "execution_count": null,
   "id": "d6fdcefb",
   "metadata": {},
   "outputs": [],
   "source": []
  }
 ],
 "metadata": {
  "kernelspec": {
   "display_name": "Python 3 (ipykernel)",
   "language": "python",
   "name": "python3"
  },
  "language_info": {
   "codemirror_mode": {
    "name": "ipython",
    "version": 3
   },
   "file_extension": ".py",
   "mimetype": "text/x-python",
   "name": "python",
   "nbconvert_exporter": "python",
   "pygments_lexer": "ipython3",
   "version": "3.9.8"
  }
 },
 "nbformat": 4,
 "nbformat_minor": 5
}
